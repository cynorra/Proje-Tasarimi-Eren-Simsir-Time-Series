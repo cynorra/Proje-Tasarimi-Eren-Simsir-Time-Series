{
 "cells": [
  {
   "cell_type": "markdown",
   "metadata": {},
   "source": [
    "VERI SETI: https://www.tcmb.gov.tr/wps/wcm/connect/TR/TCMB+TR/Main+Menu/Istatistikler/Enflasyon+Verileri/Tuketici+Fiyatlari<br>\n",
    "EVDS API kullanilmiştir"
   ]
  },
  {
   "cell_type": "code",
   "execution_count": null,
   "metadata": {},
   "outputs": [],
   "source": [
    "import warnings\n",
    "warnings.filterwarnings(\"ignore\")"
   ]
  },
  {
   "cell_type": "code",
   "execution_count": null,
   "metadata": {},
   "outputs": [],
   "source": [
    "import pandas as pd\n",
    "import evds as ev\n",
    "import matplotlib.pyplot as plt\n",
    "import seaborn as sns\n",
    "import numpy as np"
   ]
  },
  {
   "cell_type": "code",
   "execution_count": null,
   "metadata": {},
   "outputs": [],
   "source": [
    "from arch.unitroot import ADF,PhillipsPerron,KPSS,ZivotAndrews # birim kÃ¶k testi"
   ]
  },
  {
   "cell_type": "code",
   "execution_count": null,
   "metadata": {},
   "outputs": [],
   "source": [
    "from scipy.stats import boxcox"
   ]
  },
  {
   "cell_type": "code",
   "execution_count": null,
   "metadata": {},
   "outputs": [],
   "source": [
    "from statsmodels.graphics.tsaplots import month_plot, plot_acf\n",
    "import statsmodels.api as sm"
   ]
  },
  {
   "cell_type": "code",
   "execution_count": null,
   "metadata": {},
   "outputs": [],
   "source": [
    "from merlion.models.utils.autosarima_utils import nsdiffs"
   ]
  },
  {
   "cell_type": "code",
   "execution_count": null,
   "metadata": {},
   "outputs": [],
   "source": [
    "from sklearn.preprocessing import PolynomialFeatures\n",
    "from scipy.special import inv_boxcox  # boxcox'i tersine Ã§evirmek iÃ§in"
   ]
  },
  {
   "cell_type": "code",
   "execution_count": null,
   "metadata": {},
   "outputs": [],
   "source": [
    "from sklearn.metrics import r2_score, mean_squared_error"
   ]
  },
  {
   "cell_type": "code",
   "execution_count": null,
   "metadata": {},
   "outputs": [],
   "source": [
    "from statsmodels.tsa.holtwinters import Holt, ExponentialSmoothing"
   ]
  },
  {
   "cell_type": "code",
   "execution_count": null,
   "metadata": {},
   "outputs": [],
   "source": [
    "from pmdarima import auto_arima\n",
    "from statsmodels.tsa.statespace.sarimax import SARIMAX"
   ]
  },
  {
   "cell_type": "code",
   "execution_count": null,
   "metadata": {},
   "outputs": [],
   "source": [
    "from statsmodels.stats.diagnostic import acorr_ljungbox, het_arch, acorr_breusch_godfrey"
   ]
  },
  {
   "cell_type": "code",
   "execution_count": null,
   "metadata": {},
   "outputs": [],
   "source": [
    "from statsmodels.tsa.x13 import x13_arima_select_order # normal order ve seasonal order yapilarini ortaya Ã§ikartir.\n",
    "import os"
   ]
  },
  {
   "cell_type": "code",
   "execution_count": null,
   "metadata": {},
   "outputs": [],
   "source": [
    "from statsmodels.tsa.seasonal import seasonal_decompose"
   ]
  },
  {
   "cell_type": "code",
   "execution_count": null,
   "metadata": {},
   "outputs": [],
   "source": [
    "from scipy.stats import ttest_1samp, jarque_bera\n",
    "from arch import arch_model"
   ]
  },
  {
   "cell_type": "code",
   "execution_count": null,
   "metadata": {},
   "outputs": [],
   "source": [
    "with open(\"C:/Users/erens/OneDrive/MasaÃ¼stÃ¼/banalysis/evdsapi.txt\") as dosya:\n",
    "    api = dosya.read()\n",
    "    \n",
    "evds = ev.evdsAPI(api)"
   ]
  },
  {
   "cell_type": "code",
   "execution_count": null,
   "metadata": {},
   "outputs": [],
   "source": [
    "tufe = evds.get_data([\"TP.FG.J0\"],startdate=\"01-01-2003\",enddate=\"01-02-2025\",frequency=5)\n",
    "tufe.rename(columns={\"TP_FG_J0\":\"TUFE\"},inplace=True) # veri seti dÃ¼zenleme"
   ]
  },
  {
   "cell_type": "code",
   "execution_count": null,
   "metadata": {},
   "outputs": [],
   "source": [
    "tarih=pd.date_range(\"01-01-2003\",periods=len(tufe),freq=\"M\") # tarih indekslemek iÃ§in\n",
    "tufe[\"Tarih\"]=tarih\n",
    "tufe.set_index(\"Tarih\",inplace=True) # aylik indeksleme yaptik"
   ]
  },
  {
   "cell_type": "markdown",
   "metadata": {},
   "source": [
    "\n",
    "<br>\n",
    "df = tufe.resample(\"Y\").mean() # yillik ortalama tÃ¼fe (tÃ¼ketici fiyatlari)<br>\n",
    "df.index = df.index.year<br>\n",
    "sns.heatmap(df,annot=True,fmt=\".2f\",cmap=\"Reds\")<br>\n",
    "plt.show()<br>\n",
    "# tufe degerlerinden enflasyon hesaplamasi yapilcak ( veri islenecek )<br>\n",
    "tufe[\"Enflasyon\"] = tufe.pct_change()*100 # aylik enflasyon<br>\n",
    "print(tufe)<br>\n"
   ]
  },
  {
   "cell_type": "code",
   "execution_count": null,
   "metadata": {},
   "outputs": [],
   "source": [
    "enfay = tufe.pct_change() * 100\n",
    "enfay.dropna(inplace=True)\n",
    "enfay = pd.DataFrame(enfay)\n",
    "enfay.rename(columns={\"TUFE\":\"Enf\"},inplace=True)"
   ]
  },
  {
   "cell_type": "markdown",
   "metadata": {},
   "source": [
    "\n",
    "<br>\n",
    "plt.plot(tufe)<br>\n",
    "plt.show()<br>\n"
   ]
  },
  {
   "cell_type": "code",
   "execution_count": null,
   "metadata": {},
   "outputs": [],
   "source": [
    "adf = ADF(tufe,trend=\"ct\")\n",
    "pp = PhillipsPerron(tufe,trend=\"ct\")\n",
    "kpss = KPSS(tufe,trend=\"ct\")"
   ]
  },
  {
   "cell_type": "markdown",
   "metadata": {},
   "source": [
    "rint(adf) # regresyon analizi yapiyor - test statistic - p value ve lags degerleri cikiyor<br>\n",
    "rint(pp)<br>\n",
    "rint(kpss)"
   ]
  },
  {
   "cell_type": "markdown",
   "metadata": {},
   "source": [
    "p value -> h0 testi 1 veya 0 || 0 ise h0 reddedilir duragandir."
   ]
  },
  {
   "cell_type": "markdown",
   "metadata": {},
   "source": [
    "yapisal kirilma testi<br>\n",
    "c - sabit - ct sabit trendi - t direkt trend"
   ]
  },
  {
   "cell_type": "markdown",
   "metadata": {},
   "source": [
    "rint('yapisal kirilma')"
   ]
  },
  {
   "cell_type": "code",
   "execution_count": null,
   "metadata": {},
   "outputs": [],
   "source": [
    "trend = [\"c\",\"ct\",\"t\"] # yapisal kirilma olabilir mi ?"
   ]
  },
  {
   "cell_type": "code",
   "execution_count": null,
   "metadata": {},
   "outputs": [],
   "source": [
    "for i in trend:\n",
    "    z = ZivotAndrews(tufe,trend=i)\n",
    "    #print(z)"
   ]
  },
  {
   "cell_type": "markdown",
   "metadata": {},
   "source": [
    "h0 'i reddedemedigimiz icin (duragan bulamadigimiz icin) yapisal kirilma (anlamli) yok. - p value 1 ciktigindan h1 reddedilir."
   ]
  },
  {
   "cell_type": "code",
   "execution_count": null,
   "metadata": {},
   "outputs": [],
   "source": [
    "tufe_train = tufe.iloc[:36]\n",
    "tufe_test = tufe.iloc[-36:]\n",
    "#print(tufe_test)"
   ]
  },
  {
   "cell_type": "markdown",
   "metadata": {},
   "source": [
    "boxcox"
   ]
  },
  {
   "cell_type": "code",
   "execution_count": null,
   "metadata": {},
   "outputs": [],
   "source": [
    "tufe_train_bx,lm = boxcox(tufe_train[\"TUFE\"])\n",
    "tufe_train[\"Box-Cox\"] = tufe_train_bx"
   ]
  },
  {
   "cell_type": "markdown",
   "metadata": {},
   "source": [
    "\n",
    "<br>\n",
    "print(tufe_train)<br>\n",
    "# regresyon modelinde deterministik trend anlamli cikti.<br>\n"
   ]
  },
  {
   "cell_type": "markdown",
   "metadata": {},
   "source": [
    "- - - -"
   ]
  },
  {
   "cell_type": "code",
   "execution_count": null,
   "metadata": {},
   "outputs": [],
   "source": [
    "tufe_train[\"Aylar\"] = tufe_train.index.month\n",
    "dummy=pd.get_dummies(tufe_train[\"Aylar\"],prefix=\"Aylar\",dtype=int,drop_first=False) #kukla deiŸişkenlere Ã§evrilerek regresyon modeli oluşturulur. Aylar deiŸeri 2 ise Aylar_2 gibi sÃ¼tun deiŸişkeni oluşturur. Kolaylik saiŸlar.\n",
    "tufe_train=pd.concat([tufe_train,dummy],axis=1)"
   ]
  },
  {
   "cell_type": "markdown",
   "metadata": {},
   "source": [
    "######## stats models"
   ]
  },
  {
   "cell_type": "code",
   "execution_count": null,
   "metadata": {},
   "outputs": [],
   "source": [
    "x = tufe_train.drop(columns=[\"TUFE\",\"Box-Cox\",\"Aylar\"])\n",
    "y = tufe_train[\"TUFE\"]\n",
    "model = sm.OLS(y,x).fit() # stat models regression linear model OLS\n",
    "# print(model.summary())\n",
    "# mevsimsellik bir deterministik yok,"
   ]
  },
  {
   "cell_type": "markdown",
   "metadata": {},
   "source": [
    "######## stokastik mevsimsellik kontrol - merlion"
   ]
  },
  {
   "cell_type": "code",
   "execution_count": null,
   "metadata": {},
   "outputs": [],
   "source": [
    "a = nsdiffs(tufe_train[\"Box-Cox\"],m=12,test=\"ch\")\n",
    "b = nsdiffs(tufe_train[\"Box-Cox\"],m=12,test=\"ocsb\")"
   ]
  },
  {
   "cell_type": "markdown",
   "metadata": {},
   "source": [
    "rint(a)<br>\n",
    "rint(b)"
   ]
  },
  {
   "cell_type": "markdown",
   "metadata": {},
   "source": [
    "######## indeksleme | regresyon modelleme yapabilmek iÃ§in"
   ]
  },
  {
   "cell_type": "code",
   "execution_count": null,
   "metadata": {},
   "outputs": [],
   "source": [
    "indeks = np.arange(1,len(tufe_train)+1)\n",
    "tufe_train[\"T\"] = indeks"
   ]
  },
  {
   "cell_type": "code",
   "execution_count": null,
   "metadata": {},
   "outputs": [],
   "source": [
    "x = sm.add_constant(tufe_train[\"T\"])\n",
    "y = tufe_train[\"Box-Cox\"]"
   ]
  },
  {
   "cell_type": "markdown",
   "metadata": {},
   "source": [
    "model testing"
   ]
  },
  {
   "cell_type": "code",
   "execution_count": null,
   "metadata": {},
   "outputs": [],
   "source": [
    "model = sm.OLS(y,x).fit()\n",
    "# print(model.summary())"
   ]
  },
  {
   "cell_type": "code",
   "execution_count": null,
   "metadata": {},
   "outputs": [],
   "source": [
    "pol = PolynomialFeatures(degree=3)\n",
    "xp = pol.fit_transform(tufe_train[\"T\"].values.reshape(-1,1))"
   ]
  },
  {
   "cell_type": "markdown",
   "metadata": {},
   "source": [
    "model testing"
   ]
  },
  {
   "cell_type": "code",
   "execution_count": null,
   "metadata": {},
   "outputs": [],
   "source": [
    "model = sm.OLS(y,xp).fit()\n",
    "# print(model.summary())\n",
    "# Durbin Watson deiŸeri artmasina raiŸmen p deiŸeri artti"
   ]
  },
  {
   "cell_type": "markdown",
   "metadata": {},
   "source": []
  },
  {
   "cell_type": "code",
   "execution_count": null,
   "metadata": {},
   "outputs": [],
   "source": [
    "girdi = np.arange(len(tufe_train.index)+1,len(tufe_train.index)+37)\n",
    "tahmin = model.predict(pol.fit_transform(girdi.reshape(-1, 1)))\n",
    "tahmin = inv_boxcox(tahmin,lm) # yukarda kullandigimiz lambda degerini gonderdik\n",
    "tufe_test[\"Tahmin\"] = tahmin   # duraiŸan olmadiiŸi iÃ§in sahte regresyonlarla Ã§ok verimli işlem yapamiyoruz.\n",
    "# print(tufe_test) # TUFE deiŸerleriyle Tahmin deiŸerlerimiz arasinda ciddi fark var - anlamsiz."
   ]
  },
  {
   "cell_type": "markdown",
   "metadata": {},
   "source": [
    "print(r2_score(tufe_test[\"TUFE\"],tufe_test[\"Tahmin\"]))  # r2 score deiŸeri -5.23 geldi<br>\n",
    "eiŸitimde %99 luk basari olmasina ragmen testlerde durum kÃ¶tÃ¼. <br>\n",
    "duraiŸanlik olduiŸunu gÃ¶steriyor.<br>\n",
    "r2 yapisi sahte regresyon oldugunu anlayabiliyoruz."
   ]
  },
  {
   "cell_type": "markdown",
   "metadata": {},
   "source": [
    "########################## USTEL DUZELTMELER"
   ]
  },
  {
   "cell_type": "markdown",
   "metadata": {},
   "source": [
    "### HOLT MODEL<br>\n",
    "HOLT model RMSE = 1468.83"
   ]
  },
  {
   "cell_type": "code",
   "execution_count": null,
   "metadata": {},
   "outputs": [],
   "source": [
    "model = Holt(tufe_train[\"Box-Cox\"]).fit(optimized=True) \n",
    "tahmin = model.forecast(36) # 36 test verisi\n",
    "tahmin = inv_boxcox(tahmin,lm) # boxcox dÃ¶nÃ¼şÃ¼mÃ¼"
   ]
  },
  {
   "cell_type": "markdown",
   "metadata": {},
   "source": [
    "print(r2_score(tufe_test[\"TUFE\"],tahmin))  # -5.2680<br>\n",
    "print(np.sqrt(mean_squared_error(tufe_test[\"TUFE\"],tahmin))) # HOLT model RMSE = 1468.83"
   ]
  },
  {
   "cell_type": "markdown",
   "metadata": {},
   "source": [
    "### HOLT WINTERS MODEL<br>\n",
    "HOLT WINTERS model RMSE min 1471 Ã§ikti."
   ]
  },
  {
   "cell_type": "markdown",
   "metadata": {},
   "source": [
    "Ã§arpimsal ve toplamsal olarak tiplere bakilacak<br>\n",
    "seride 0 deiŸer varsa sifirlayacaiŸindan normalde sikinti Ã§ikartabilen bir model."
   ]
  },
  {
   "cell_type": "code",
   "execution_count": null,
   "metadata": {},
   "outputs": [],
   "source": [
    "trend_tip = [\"add\",\"mul\"]\n",
    "seas_tip = [\"add\",\"mul\"]\n",
    "per = range(2,13) # periyot - mevsimsellik kalibi"
   ]
  },
  {
   "cell_type": "code",
   "execution_count": null,
   "metadata": {},
   "outputs": [],
   "source": [
    "sonuc = pd.DataFrame(columns=[\"Trend\",\"Mevsimsellik\",\"Periyod\",\"R2\",\"RMSE\"])"
   ]
  },
  {
   "cell_type": "code",
   "execution_count": null,
   "metadata": {},
   "outputs": [],
   "source": [
    "for i in trend_tip:\n",
    "    for j in seas_tip:\n",
    "        for k in per:\n",
    "            model = ExponentialSmoothing(tufe_train[\"Box-Cox\"],trend=i,seasonal=j,seasonal_periods=k).fit(optimized=True)\n",
    "            tahmin = model.forecast(36) # 36 veri iÃ§in\n",
    "            tahmin = inv_boxcox(tahmin,lm)\n",
    "            rmse = np.sqrt(mean_squared_error(tufe_test[\"TUFE\"],tahmin))\n",
    "            sonuc = sonuc._append({\"Trend\":i,\"Mevsimsellik\":j,\"Periyod\":k,\"RMSE:\":rmse},ignore_index=True)"
   ]
  },
  {
   "cell_type": "code",
   "execution_count": null,
   "metadata": {},
   "outputs": [],
   "source": [
    "sonuc = sonuc.sort_values(by=\"RMSE\") # sutun adina gÃ¶re df'yi sortla\n",
    "# print(sonuc)  minimum RMSE 1471 Ã§ikti."
   ]
  },
  {
   "cell_type": "markdown",
   "metadata": {},
   "source": [
    "### ARIMA"
   ]
  },
  {
   "cell_type": "code",
   "execution_count": null,
   "metadata": {},
   "outputs": [],
   "source": [
    "model = auto_arima(tufe_train[\"Box-Cox\"],seasonal=False,trace=False)\n",
    "# print(model.summary())\n",
    "# AIC -> -130\n",
    "# SARIMAX(2, 1, 1) kullanildi"
   ]
  },
  {
   "cell_type": "markdown",
   "metadata": {},
   "source": [
    "seasonal yapisi kullanilarak"
   ]
  },
  {
   "cell_type": "code",
   "execution_count": null,
   "metadata": {},
   "outputs": [],
   "source": [
    "sonuc = pd.DataFrame(columns=[\"m\",\"AIC\"])"
   ]
  },
  {
   "cell_type": "code",
   "execution_count": null,
   "metadata": {},
   "outputs": [],
   "source": [
    "for i in range(2,13):\n",
    "    model = auto_arima(tufe_train[\"Box-Cox\"],seasonal=True,trace=False,m=i)\n",
    "    sonuc = sonuc._append({\"m\":i,\"AIC\":model.aic()},ignore_index=True)"
   ]
  },
  {
   "cell_type": "code",
   "execution_count": null,
   "metadata": {},
   "outputs": [],
   "source": [
    "sonuc = sonuc.sort_values(by=\"AIC\")\n",
    "# print(sonuc)"
   ]
  },
  {
   "cell_type": "markdown",
   "metadata": {},
   "source": [
    "### SARIMAX"
   ]
  },
  {
   "cell_type": "code",
   "execution_count": null,
   "metadata": {},
   "outputs": [],
   "source": [
    "model = SARIMAX(tufe_train[\"Box-Cox\"],order=(0,1,1),seasonal_order=(2,0,1,12),trend=\"c\").fit()\n",
    "# ma.l1 0 ise problem yok, 0'dan buyuk degerler icin problemdir\n",
    "# order parametresinde buna dikkat edicez\n",
    "# model summary kisminda Model:SARIMAX(0,1,2)x(2,..) gibi devam eden kisimda\n",
    "# L1'de sikinti olmadiiŸi iÃ§in SARIMAX'in 0,1 degerlerini aldik.\n",
    "# 2'yi 1'e indirdik ma.l2 1'den buyuk sikintili oldugu icin\n",
    "# z ve P>|z| degerlerine bakarak cevap verdik.\n",
    "# intercept yapisinda oldugundan trend=\"c\" (constant-sabit) parametresi ekledik"
   ]
  },
  {
   "cell_type": "markdown",
   "metadata": {},
   "source": [
    "print(model.summary())<br>\n",
    "AIC -> -120<br>\n",
    "SARIMAX(0, 1, 1)"
   ]
  },
  {
   "cell_type": "markdown",
   "metadata": {},
   "source": [
    "############### ARIMA KULLANILACAK<br>\n",
    "oto korelasyon olmayacak<br>\n",
    "arch etkisi olmayacak"
   ]
  },
  {
   "cell_type": "markdown",
   "metadata": {},
   "source": [
    "q model"
   ]
  },
  {
   "cell_type": "code",
   "execution_count": null,
   "metadata": {},
   "outputs": [],
   "source": [
    "q = acorr_ljungbox(model.resid)\n",
    "h = het_arch(model.resid,nlags=1,ddof=3)[1] # modeli eiŸitirken 3 parametre kullandiiŸimiz iÃ§in\n",
    "# serbestlik derecesi ddof 3 oldu."
   ]
  },
  {
   "cell_type": "markdown",
   "metadata": {},
   "source": [
    "print(q)<br>\n",
    "print(h)"
   ]
  },
  {
   "cell_type": "markdown",
   "metadata": {},
   "source": [
    "##### seasonal order kullanimi"
   ]
  },
  {
   "cell_type": "markdown",
   "metadata": {},
   "source": [
    "model = SARIMAX(tufe_train[\"Box-Cox\"],order = (0,1,1), seasonal_order=(1,0,1,12),trend=\"n\").fit()"
   ]
  },
  {
   "cell_type": "markdown",
   "metadata": {},
   "source": [
    "path = r'C:\\WinX13\\x13as'<br>\n",
    "arima = x13_arima_select_order(tufe_train[\"Box-Cox\"],x12path = path, outlier=True)<br>\n",
    "outlier - aykiri gÃ¶zlem varsa dikkate alir"
   ]
  },
  {
   "cell_type": "markdown",
   "metadata": {},
   "source": [
    "print(arima.order) # order (1,1,0)<br>\n",
    "print(arima.sorder)  # seasonal order (0,1,1,12)"
   ]
  },
  {
   "cell_type": "markdown",
   "metadata": {},
   "source": [
    "#######"
   ]
  },
  {
   "cell_type": "code",
   "execution_count": null,
   "metadata": {},
   "outputs": [],
   "source": [
    "enfay = tufe[\"TUFE\"].pct_change() * 100\n",
    "enfay.dropna(inplace=True)\n",
    "enfay = pd.DataFrame(enfay)\n",
    "enfay.rename(columns={\"TUFE\":\"Enf\"},inplace = True)"
   ]
  },
  {
   "cell_type": "code",
   "execution_count": null,
   "metadata": {},
   "outputs": [],
   "source": [
    "enf_train = enfay.iloc[:-36]\n",
    "enf_test = enfay.iloc[-36:]"
   ]
  },
  {
   "cell_type": "code",
   "execution_count": null,
   "metadata": {},
   "outputs": [],
   "source": [
    "ayris = seasonal_decompose(enf_train[\"Enf\"],model=\"add\", period = 12, extrapolate_trend = \"freq\")\n",
    "# ayris.plot()\n",
    "# plt.show()"
   ]
  },
  {
   "cell_type": "code",
   "execution_count": null,
   "metadata": {},
   "outputs": [],
   "source": [
    "veri = pd.concat([\n",
    "    ayris.observed,\n",
    "    ayris.trend,\n",
    "    ayris.seasonal,\n",
    "    ayris.observed - ayris.seasonal, # toplamsal model kullandigimiz icin / yerine Ã§ikartma yaptik\n",
    "    ayris.resid],axis=1)        # resid -> rassal"
   ]
  },
  {
   "cell_type": "code",
   "execution_count": null,
   "metadata": {},
   "outputs": [],
   "source": [
    "veri.columns = [\"Enf\",\"Trend\",\"Mevsimsellik\",\"Mevsimsel DÃ¼zeltme\",\"Rassal\"]"
   ]
  },
  {
   "cell_type": "markdown",
   "metadata": {},
   "source": [
    "y = mevsimsellik + rassal + trend -> Enflasyon"
   ]
  },
  {
   "cell_type": "markdown",
   "metadata": {},
   "source": [
    "plt.plot(veri[\"Mevsimsel DÃ¼zeltme\"])<br>\n",
    "plt.show()"
   ]
  },
  {
   "cell_type": "markdown",
   "metadata": {},
   "source": [
    "mevsimsel dÃ¼zeltmenin doiŸrusallikla bir korelasyonu var mi ona bakicaz"
   ]
  },
  {
   "cell_type": "code",
   "execution_count": null,
   "metadata": {},
   "outputs": [],
   "source": [
    "indeks = np.arange(1,len(veri)+1) # dogrusallik yapisi (girdi olarak kullanilacakti - linear regression)\n",
    "# print(indeks)\n",
    "# plt.plot(indeks)\n",
    "# plt.show()"
   ]
  },
  {
   "cell_type": "markdown",
   "metadata": {},
   "source": [
    "yukari yÃ¶nlÃ¼yse (hatasi dÃ¼şÃ¼kse) yÃ¼ksek r'2 deiŸeri Ã§ikar ve doiŸrusal korelasyon vardir.<br>\n",
    "numpy korelasyon matrisini kullanalim"
   ]
  },
  {
   "cell_type": "markdown",
   "metadata": {},
   "source": [
    "print(np.corrcoef(veri[\"Mevsimsel DÃ¼zeltme\"],indeks))<br>\n",
    "0.21 'lik korelasyon Ã§ikti. -(linear deiŸil)<br>\n",
    "verimizde deterministik bir mevsimsellik var<br>\n",
    "mevsimselliiŸi dişlayip mevsimsel dÃ¼zeltme katsayisina ulaştik.<br>\n",
    "mevsimsel dÃ¼zeltmeyi doiŸru modelleyebilirsek deterministik olduiŸu iÃ§in ekleme yapip tahmin sonucu elde edebiliriz.<br>\n",
    "mevsimsellik yapisinda trend yapisi olmadiiŸi iÃ§in doiŸrusal model yapisi kuramadik - kuramayiz."
   ]
  },
  {
   "cell_type": "markdown",
   "metadata": {},
   "source": [
    "mevsimsel olmayan arima modeliyle devam edicez"
   ]
  },
  {
   "cell_type": "code",
   "execution_count": null,
   "metadata": {},
   "outputs": [],
   "source": [
    "model = auto_arima(veri[\"Mevsimsel DÃ¼zeltme\"],seasonal = False, Trace = False)\n",
    "# print(model.summary()) \n",
    "# AIC 458\n",
    "# arch etkisi - (geriye kalan artiklar Ã¼zerinden kontrol edicez) ve otokorelasyon var mi ?"
   ]
  },
  {
   "cell_type": "markdown",
   "metadata": {},
   "source": [
    "### oto korelasyon<br>\n",
    "ac = acorr_ljungbox(model.resid()) # rassal deiŸerler"
   ]
  },
  {
   "cell_type": "markdown",
   "metadata": {},
   "source": [
    "# arch etkisi<br>\n",
    "h = het_arch(model.resid(), nlags = 1 , ddof=3)[1] # serbestlik derecesi ddof = 3 ( p + d )"
   ]
  },
  {
   "cell_type": "markdown",
   "metadata": {},
   "source": [
    "print(ac)  # anlamli korelasyon yok<br>\n",
    "print(h) # 0.001 arch etkisi var."
   ]
  },
  {
   "cell_type": "code",
   "execution_count": null,
   "metadata": {},
   "outputs": [],
   "source": [
    "enf_test[\"Mevsimsellik\"] = veri[\"Mevsimsellik\"].iloc[-36:].values\n",
    "tahmin = model.predict(36)\n",
    "enf_test[\"Tahmin\"] = tahmin + enf_test[\"Mevsimsellik\"]\n",
    "# print(enf_test)\n",
    "# enflasyonla tahmin deiŸerleri arasinda Ã§ok fark var\n",
    "# bunun nedeni arch etkisinden dolayi,"
   ]
  },
  {
   "cell_type": "markdown",
   "metadata": {},
   "source": [
    " mevsimsel dÃ¼zeltmeyi kullanmicaz, sarima kullanicaz."
   ]
  },
  {
   "cell_type": "markdown",
   "metadata": {},
   "source": [
    "\n",
    "<br>\n",
    "for i in range(2,13):<br>\n",
    "    model = auto_arima(veri[\"Enf\"],seasonal=True,m=i,trace=False)<br>\n",
    "    print(\"m:{} Aic: {}\".format(i,model.aic()))<br>\n"
   ]
  },
  {
   "cell_type": "markdown",
   "metadata": {},
   "source": [
    "\n",
    "<br>\n",
    "m:2 Aic: 515.2326035115791<br>\n",
    "m:3 Aic: 509.77785147828354<br>\n",
    "m:4 Aic: 502.2720704046204<br>\n",
    "m:5 Aic: 541.3718499213408<br>\n",
    "m:6 Aic: 509.2182209465135<br>\n",
    "m:7 Aic: 541.3718499213408<br>\n",
    "m:8 Aic: 518.7257272095954<br>\n",
    "m:9 Aic: 528.3586976084922<br>\n",
    "m:10 Aic: 541.3718499213408<br>\n",
    "m:11 Aic: 541.3718499213408<br>\n",
    "m:12 Aic: 494.3792266831782<br>\n",
    "Bu modelde Aic deiŸeri Ã¶ncekine gÃ¶re yÃ¼ksek Ã§ikti, kullanmayacaiŸiz.<br>\n"
   ]
  },
  {
   "cell_type": "markdown",
   "metadata": {},
   "source": [
    "Yumuşatma Ãœstel Modelleri Deneyelim:"
   ]
  },
  {
   "cell_type": "code",
   "execution_count": null,
   "metadata": {},
   "outputs": [],
   "source": [
    "    \n",
    "sonuc = pd.DataFrame(columns=[\"DÃ¶nem\", \"RMSE\"])\n",
    "period = range(2,13)"
   ]
  },
  {
   "cell_type": "markdown",
   "metadata": {},
   "source": [
    "hold winters mevsimselliiŸi de baz aliyor"
   ]
  },
  {
   "cell_type": "code",
   "execution_count": null,
   "metadata": {},
   "outputs": [],
   "source": [
    "for i in period:\n",
    "    model = ExponentialSmoothing(enf_train[\"Enf\"],trend=\"add\",seasonal=\"add\",seasonal_periods=i).fit(optimized=True)\n",
    "    tahmin = model.forecast(36) # 36 dÃ¶nemlik\n",
    "    rmse = np.sqrt(mean_squared_error(enf_test[\"Enf\"], tahmin))\n",
    "    sonuc = sonuc._append({\"DÃ¶nem\":i,\"RMSE\":rmse},ignore_index=True)\n",
    "    \n",
    "    \n",
    "sonuc = sonuc.sort_values(by=\"RMSE\") # kucukten buyuge\n",
    "# print(sonuc)"
   ]
  },
  {
   "cell_type": "markdown",
   "metadata": {},
   "source": [
    "\n",
    "<br>\n",
    "    DÃ¶nem      RMSE<br>\n",
    "1     3.0  3.904438<br>\n",
    "7     9.0  3.912075<br>\n",
    "0     2.0  3.933386<br>\n",
    "8    10.0  3.934485<br>\n",
    "6     8.0  3.948194<br>\n",
    "9    11.0  3.949118<br>\n",
    "10   12.0  3.970932<br>\n",
    "4     6.0  3.997553<br>\n",
    "2     4.0  4.140709<br>\n",
    "3     5.0  4.206096<br>\n",
    "5     7.0  4.227467<br>\n",
    "Periyot olarak 3 dÃ¶nem kullandiiŸimizda en dÃ¼şÃ¼k RMSE deiŸerine ulaşabiliyoruz<br>\n",
    "Deneyelim:<br>\n"
   ]
  },
  {
   "cell_type": "code",
   "execution_count": null,
   "metadata": {},
   "outputs": [],
   "source": [
    "model = ExponentialSmoothing(enf_train[\"Enf\"],trend=\"add\",seasonal=\"add\",seasonal_periods=3).fit(optimized=True)\n",
    "tahmin = model.forecast(36) # 36 dÃ¶nemlik\n",
    "enf_test[\"Tahmin\"] = tahmin\n",
    "# print(enf_test)\n",
    "    \n",
    "    \n",
    "sonuc = sonuc.sort_values(by=\"RMSE\")\n",
    "# print(sonuc)"
   ]
  },
  {
   "cell_type": "markdown",
   "metadata": {},
   "source": [
    "\n",
    "<br>\n",
    "DÃ¶nem      RMSE<br>\n",
    "0     3.0  3.904438<br>\n",
    "19   10.0  3.904438<br>\n",
    "18    9.0  3.904438<br>\n",
    "17    8.0  3.904438<br>\n",
    "16    7.0  3.904438<br>\n",
    "15    6.0  3.904438<br>\n",
    "14    5.0  3.904438<br>\n",
    "13    4.0  3.904438<br>\n",
    "12    3.0  3.904438<br>\n",
    "11    2.0  3.904438<br>\n",
    "21   12.0  3.904438<br>\n",
    "20   11.0  3.904438<br>\n",
    "1     9.0  3.912075<br>\n",
    "2     2.0  3.933386<br>\n",
    "3    10.0  3.934485<br>\n",
    "4     8.0  3.948194<br>\n",
    "5    11.0  3.949118<br>\n",
    "6    12.0  3.970932<br>\n",
    "7     6.0  3.997553<br>\n",
    "8     4.0  4.140709<br>\n",
    "9     5.0  4.206096<br>\n",
    "10    7.0  4.227467<br>\n"
   ]
  },
  {
   "cell_type": "markdown",
   "metadata": {},
   "source": [
    "mevsimsel dÃ¼zeltme = trend + rassal olduiŸundan rassal'lik enflasyona ciddi etkisi var.<br>\n",
    "sabir bir ortalama modeliyle tahmin etmek zordur<br>\n",
    "-----------------"
   ]
  },
  {
   "cell_type": "markdown",
   "metadata": {},
   "source": [
    "# veri gÃ¶rselleştirelim"
   ]
  },
  {
   "cell_type": "code",
   "execution_count": null,
   "metadata": {},
   "outputs": [],
   "source": [
    "veri.plot(y=[\"Enf\",\"Trend\",\"Rassal\"])\n",
    "#plt.show()"
   ]
  },
  {
   "cell_type": "markdown",
   "metadata": {},
   "source": [
    "enflasyon rassal şoklarla hareket ediyor.<br>\n",
    "trend veya rassali tek başina modelleyebilir miyiz ?"
   ]
  },
  {
   "cell_type": "markdown",
   "metadata": {},
   "source": [
    "trend -> belirli bir ortalama etrafinda gidiyor - linear regresyonla aÃ§iklanmaz<br>\n",
    "mevsimsellik -> deterministiktir.<br>\n",
    "rassallik -> bunun Ã¼zerinde durucaz."
   ]
  },
  {
   "cell_type": "code",
   "execution_count": null,
   "metadata": {},
   "outputs": [],
   "source": [
    "indeks = np.arange(1,len(veri)+1)\n",
    "veri[\"T\"] = indeks"
   ]
  },
  {
   "cell_type": "markdown",
   "metadata": {},
   "source": [
    "polinomal regresyonla"
   ]
  },
  {
   "cell_type": "code",
   "execution_count": null,
   "metadata": {},
   "outputs": [],
   "source": [
    "pol = PolynomialFeatures(degree = 3)\n",
    "xp = pol.fit_transform(veri[\"T\"].values.reshape(-1,1))"
   ]
  },
  {
   "cell_type": "code",
   "execution_count": null,
   "metadata": {},
   "outputs": [],
   "source": [
    "y = veri[\"Trend\"]\n",
    "model = sm.OLS(y,xp).fit()\n",
    "# print(model.summary())"
   ]
  },
  {
   "cell_type": "markdown",
   "metadata": {},
   "source": [
    "Log - Likehood = Katsayilar Anlamli<br>\n",
    "Prob (F-statistic) > 0 : Model Anlamli<br>\n",
    "R^2 dÃ¼şÃ¼k Ã§Ã¼nkÃ¼ doiŸrusal model deiŸil."
   ]
  },
  {
   "cell_type": "code",
   "execution_count": null,
   "metadata": {},
   "outputs": [],
   "source": [
    "tahmin = model.predict(xp)"
   ]
  },
  {
   "cell_type": "markdown",
   "metadata": {},
   "source": [
    "sns.scatterplot(x = veri[\"T\"], y=veri[\"Trend\"], label=\"GerÃ§ek DeiŸerler\")<br>\n",
    "sns.lineplot(x = veri[\"T\"], y=tahmin, label=\"Tahmin\")<br>\n",
    "plt.show()"
   ]
  },
  {
   "cell_type": "markdown",
   "metadata": {},
   "source": [
    "rint(model.summary()) # polinom derecesi 1 'ken R^2 0.35"
   ]
  },
  {
   "cell_type": "code",
   "execution_count": null,
   "metadata": {},
   "outputs": [],
   "source": [
    "                       # polinom derecesi 2 'ken R^2 0.595\n",
    "                       # polinom derecesi 3 'ken R^2 0.630"
   ]
  },
  {
   "cell_type": "markdown",
   "metadata": {},
   "source": [
    " modelin artiklari"
   ]
  },
  {
   "cell_type": "code",
   "execution_count": null,
   "metadata": {},
   "outputs": [],
   "source": [
    "artik = model.resid"
   ]
  },
  {
   "cell_type": "markdown",
   "metadata": {},
   "source": [
    " plot acf - otokoralasyon yapisi<br>\n",
    "lot_acf(artik, zero=False)<br>\n",
    "lt.show()"
   ]
  },
  {
   "cell_type": "markdown",
   "metadata": {},
   "source": [
    "acorr_breusch_godfrey - artiklarin otokoralasyonunu test edicek"
   ]
  },
  {
   "cell_type": "code",
   "execution_count": null,
   "metadata": {},
   "outputs": [],
   "source": [
    "h = acorr_breusch_godfrey(model)[1] # h1 - otokoralasyonun var olduiŸunu | h\n",
    "# prop deiŸeri Ã¶nemli olduiŸundan modelin [1] deiŸerini aldik."
   ]
  },
  {
   "cell_type": "markdown",
   "metadata": {},
   "source": [
    "print(h) - 5.5162208818113e-40  - h1 kabul (h>0)"
   ]
  },
  {
   "cell_type": "markdown",
   "metadata": {},
   "source": [
    "####### ARIMA ile Trendi tahmin etme<br>\n",
    "trend modeli"
   ]
  },
  {
   "cell_type": "code",
   "execution_count": null,
   "metadata": {},
   "outputs": [],
   "source": [
    "model = auto_arima(veri[\"Trend\"],seasonal = False, trace= False)\n",
    "# print(model.summary())\n",
    "# ar deiŸerleri yok, (mevsimsellik kontrol edilmedi)"
   ]
  },
  {
   "cell_type": "code",
   "execution_count": null,
   "metadata": {},
   "outputs": [],
   "source": [
    "artik = model.resid()\n",
    "ac = acorr_ljungbox(artik)\n",
    "# print(ac) # otokoralasyon testi - anlamli deiŸil."
   ]
  },
  {
   "cell_type": "markdown",
   "metadata": {},
   "source": [
    "arch etkisi testi"
   ]
  },
  {
   "cell_type": "code",
   "execution_count": null,
   "metadata": {},
   "outputs": [],
   "source": [
    "h = het_arch(artik, nlags=1, ddof=3)[1]\n",
    "# print(h) 0.9953081082332432 - p-deiŸeri > 0.05 || 0.99 > 0.05 H0 kabul (arch etkisi yok)"
   ]
  },
  {
   "cell_type": "markdown",
   "metadata": {},
   "source": [
    "## tahmin"
   ]
  },
  {
   "cell_type": "code",
   "execution_count": null,
   "metadata": {},
   "outputs": [],
   "source": [
    "tahmin = model.predict_in_sample()\n",
    "# print('TAHMIN:')\n",
    "# print(tahmin)"
   ]
  },
  {
   "cell_type": "markdown",
   "metadata": {},
   "source": [
    "plt.plot(veri[\"Trend\"],label=\"Trend\")<br>\n",
    "plt.plot(tahmin,label = \"Tahmin\")<br>\n",
    "plt.legend()<br>\n",
    "plt.show()"
   ]
  },
  {
   "cell_type": "markdown",
   "metadata": {},
   "source": [
    "##### Rassal Hareket Analizi<br>\n",
    " Ozetle<br>\n",
    "Deterministik Mevsimsellik var<br>\n",
    "Trend -> arch etkisi yok , otokorelasyon yapisi yok.<br>\n",
    "Rassal'in Enflasyona etkisi en fazla derecede.<br>\n",
    "ttest ile"
   ]
  },
  {
   "cell_type": "markdown",
   "metadata": {},
   "source": [
    "rassalliiŸin ortalamasi sifir mi fark li mi ?"
   ]
  },
  {
   "cell_type": "code",
   "execution_count": null,
   "metadata": {},
   "outputs": [],
   "source": [
    "t_ist,p = ttest_1samp(veri[\"Rassal\"], popmean=0)\n",
    "# popmean -> hangi degerden farkli olup olmadigini test etmek icin verdigimiz deger\n",
    "# print(p)\n",
    "# 0.9255763888159445   -   h0 kabul arima yerine zero modeli secilebilir ( 0 ortalamaya sahip )"
   ]
  },
  {
   "cell_type": "markdown",
   "metadata": {},
   "source": [
    "## ADF augmented dickey fuller Testi - Rassal<br>\n",
    "ortalama 0 oldugu icin trend n gonderebiliriz"
   ]
  },
  {
   "cell_type": "code",
   "execution_count": null,
   "metadata": {},
   "outputs": [],
   "source": [
    "adf = ADF(veri[\"Rassal\"],trend=\"n\")\n",
    "# print(adf)"
   ]
  },
  {
   "cell_type": "markdown",
   "metadata": {},
   "source": [
    "\n",
    "<br>\n",
    "Test Statistic: -8<br>\n",
    "Trend: No Trend<br>\n",
    "Critical Values: -2.58 (1%), -1.94 (5%), -1.62 (10%)<br>\n",
    "Null Hypothesis: The process contains a unit root.<br>\n"
   ]
  },
  {
   "cell_type": "markdown",
   "metadata": {},
   "source": [
    "## PhillipsPerron"
   ]
  },
  {
   "cell_type": "code",
   "execution_count": null,
   "metadata": {},
   "outputs": [],
   "source": [
    "pp = PhillipsPerron(veri[\"Rassal\"],trend=\"n\")\n",
    "## print(pp)"
   ]
  },
  {
   "cell_type": "markdown",
   "metadata": {},
   "source": [
    "\n",
    "<br>\n",
    "Test Statistic                -16.056<br>\n",
    "P-value                         0.000<br>\n",
    "Lags                               15<br>\n",
    "-------------------------------------<br>\n",
    "Trend: No Trend<br>\n",
    "Critical Values: -2.58 (1%), -1.94 (5%), -1.62 (10%)<br>\n",
    "Null Hypothesis: The process contains a unit root.<br>\n"
   ]
  },
  {
   "cell_type": "markdown",
   "metadata": {},
   "source": [
    "#"
   ]
  },
  {
   "cell_type": "code",
   "execution_count": null,
   "metadata": {},
   "outputs": [],
   "source": [
    "sns.histplot(veri[\"Rassal\"],kde=True)\n",
    "# plt.show()\n",
    "# kde - normal dagilim"
   ]
  },
  {
   "cell_type": "markdown",
   "metadata": {},
   "source": [
    "### normallik testi"
   ]
  },
  {
   "cell_type": "code",
   "execution_count": null,
   "metadata": {},
   "outputs": [],
   "source": [
    "n = jarque_bera(veri[\"Rassal\"]) # normal dagilima uymamasini bekliyoruz..\n",
    "# h0 normal dagilir\n",
    "# h1 normal dagilmaz"
   ]
  },
  {
   "cell_type": "markdown",
   "metadata": {},
   "source": [
    "print(n)<br>\n",
    "SignificanceResult(statistic=1076.5207353062297, pvalue=1.723822325527858e-234)<br>\n",
    "normal dagilim yok<br>\n",
    "seri duragan"
   ]
  },
  {
   "cell_type": "markdown",
   "metadata": {},
   "source": [
    "## ARCH ile modelleyecegiz"
   ]
  },
  {
   "cell_type": "code",
   "execution_count": null,
   "metadata": {},
   "outputs": [],
   "source": [
    "p_val = range(1,5) # 5 i kapsamayacagi icin max 4 gecikme\n",
    "q_val = range(1,5)\n",
    "o_val = range(0,2)"
   ]
  },
  {
   "cell_type": "code",
   "execution_count": null,
   "metadata": {},
   "outputs": [],
   "source": [
    "dag = [\"ged\",\"normal\",\"studentst\",\"skewt\"]\n",
    "model = [\"GARCH\",\"EGARCH\"]"
   ]
  },
  {
   "cell_type": "code",
   "execution_count": null,
   "metadata": {},
   "outputs": [],
   "source": [
    "sonuc = pd.DataFrame(columns=[\"p\",\"o\",\"q\",\"Model\",\"DaiŸilim\",\"Aic\"])"
   ]
  },
  {
   "cell_type": "code",
   "execution_count": null,
   "metadata": {},
   "outputs": [],
   "source": [
    "for p in p_val:\n",
    "    for q in q_val:\n",
    "        for o in o_val:\n",
    "            for d in dag:\n",
    "                for m in model:\n",
    "                    modelarch = arch_model(veri[\"Rassal\"],p=p,o=o,q=q,vol=m,dist=d,mean=\"Zero\").fit(disp=\"off\")\n",
    "                    sonuc = sonuc._append({\"p\":p,\"o\":o,\"q\":q,\"Model\":m,\"DaiŸilim\":d,\"Aic\":modelarch.aic},ignore_index=True)"
   ]
  },
  {
   "cell_type": "code",
   "execution_count": null,
   "metadata": {},
   "outputs": [],
   "source": [
    "sonuc = sonuc.sort_values(by=\"Aic\")"
   ]
  },
  {
   "cell_type": "markdown",
   "metadata": {},
   "source": [
    "print(sonuc)"
   ]
  },
  {
   "cell_type": "markdown",
   "metadata": {},
   "source": [
    "\n",
    "<br>\n",
    "p  o  q   Model DaiŸilim         Aic<br>\n",
    "14   1  1  1   GARCH   skewt  381.491804<br>\n",
    "30   1  1  2   GARCH   skewt  383.491803<br>\n",
    "78   2  1  1   GARCH   skewt  383.491804<br>\n",
    "142  3  1  1   GARCH   skewt  385.491803<br>\n",
    "46   1  1  3   GARCH   skewt  385.491803<br>\n",
    "..  .. .. ..     ...     ...         ...<br>\n",
    "114  2  0  4   GARCH  normal  413.718610<br>\n",
    "35   1  0  3  EGARCH  normal  414.308609<br>\n",
    "99   2  0  3  EGARCH  normal  415.158920<br>\n",
    "51   1  0  4  EGARCH  normal  416.308608<br>\n",
    "115  2  0  4  EGARCH  normal  417.158921<br>\n",
    "<br>\n",
    "model-1 en dÃ¼sÃ¼k AIC deiŸerli;"
   ]
  },
  {
   "cell_type": "code",
   "execution_count": null,
   "metadata": {},
   "outputs": [],
   "source": [
    "modelarch = arch_model(veri[\"Rassal\"],p=1,o=1,q=1,vol=\"GARCH\",dist=\"skewt\",mean=\"Zero\").fit(disp=\"off\")\n",
    "# print(modelarch)\n",
    "# ortalamasi zaten sifir"
   ]
  },
  {
   "cell_type": "markdown",
   "metadata": {},
   "source": [
    "arch etkisi kontrol "
   ]
  },
  {
   "cell_type": "code",
   "execution_count": null,
   "metadata": {},
   "outputs": [],
   "source": [
    "h = het_arch(modelarch.std_resid, nlags=1)[1]\n",
    "print(h)\n",
    "# 0.859623524612982 -> H0 kabul arch etkisi yok."
   ]
  },
  {
   "cell_type": "code",
   "execution_count": null,
   "metadata": {},
   "outputs": [],
   "source": [
    "plt.plot(veri[\"Rassal\"])\n",
    "plt.plot(modelarch.conditional_volatility) # aykiri deiŸerleri ne kadar tahmin edebiliyoruz?"
   ]
  },
  {
   "cell_type": "markdown",
   "metadata": {},
   "source": [
    "### OZET ####<br>\n",
    "Mevsimsellik -> Deterministik<br>\n",
    "Trend -> Arima ile modellenecek"
   ]
  },
  {
   "cell_type": "markdown",
   "metadata": {},
   "source": [
    "##### Rolling Window - Kayan Yapi"
   ]
  },
  {
   "cell_type": "code",
   "execution_count": null,
   "metadata": {},
   "outputs": [],
   "source": [
    "test_sayisi = len(enf_test)\n",
    "vol_tahmin = [] # volatility olmadigi icin."
   ]
  },
  {
   "cell_type": "code",
   "execution_count": null,
   "metadata": {},
   "outputs": [],
   "source": [
    "for i in range(test_sayisi):\n",
    "    train = enfay[\"Enf\"][:-(test_sayisi-i)]\n",
    "    modelarch = arch_model(train, p=1, o=1, q=1, vol=\"GARCH\", dist=\"skewt\", mean=\"Zero\")\n",
    "    model_arch = modelarch.fit(disp=\"off\")\n",
    "    tahmin = model_arch.forecast(horizon=1) # horizon -> kaÃ§ adim sonrasini tahmin edecek??\n",
    "    vol_tahmin.append(np.sqrt(tahmin.variance.values[-1,:][0])) # Array Yapisindan Ã§ikarmak iÃ§in ekstradan [0] parametresi ekledik."
   ]
  },
  {
   "cell_type": "markdown",
   "metadata": {},
   "source": [
    "## Trend Tahmin"
   ]
  },
  {
   "cell_type": "code",
   "execution_count": null,
   "metadata": {},
   "outputs": [],
   "source": [
    "model_trend = auto_arima(veri[\"Trend\"],seasonal=False, trace=False)\n",
    "tahmin_trend = model_trend.predict(test_sayisi)"
   ]
  },
  {
   "cell_type": "code",
   "execution_count": null,
   "metadata": {},
   "outputs": [],
   "source": [
    "tahmin_mev = veri[\"Mevsimsellik\"].iloc[-(test_sayisi):]\n",
    "# print(tahmin_mev)"
   ]
  },
  {
   "cell_type": "markdown",
   "metadata": {},
   "source": [
    "# sonuc - toplamsal model"
   ]
  },
  {
   "cell_type": "code",
   "execution_count": null,
   "metadata": {},
   "outputs": [],
   "source": [
    "plt.figure()\n",
    "son = tahmin_trend + tahmin_mev.values\n",
    "enf_test[\"Tahmin\"] = son"
   ]
  },
  {
   "cell_type": "code",
   "execution_count": null,
   "metadata": {},
   "outputs": [],
   "source": [
    "plt.ylim(top=13)\n",
    "plt.plot(enf_train[\"Enf\"], label = \"Train\")\n",
    "plt.plot(enf_test[\"Enf\"], label=\"Test\")\n",
    "plt.plot(enf_test[\"Tahmin\"], label=\"Tahmin\")\n",
    "plt.legend()\n",
    "plt.show()"
   ]
  },
  {
   "cell_type": "markdown",
   "metadata": {},
   "source": [
    "şoklari (volatility) tahmin edemiyor.<br>\n",
    "eklersek (volatility degerlerini)"
   ]
  },
  {
   "cell_type": "code",
   "execution_count": null,
   "metadata": {},
   "outputs": [],
   "source": [
    "plt.figure()\n",
    "son = tahmin_trend + tahmin_mev.values + vol_tahmin\n",
    "enf_test[\"Tahmin\"] = son\n",
    "plt.ylim(top=13)\n",
    "plt.plot(enf_train[\"Enf\"], label = \"Train\")\n",
    "plt.plot(enf_test[\"Enf\"], label=\"Test\")\n",
    "plt.plot(enf_test[\"Tahmin\"], label=\"Tahmin\")\n",
    "plt.legend()\n",
    "plt.show()"
   ]
  }
 ],
 "metadata": {
  "kernelspec": {
   "display_name": "Python 3",
   "language": "python",
   "name": "python3"
  },
  "language_info": {
   "codemirror_mode": {
    "name": "ipython",
    "version": 3
   },
   "file_extension": ".py",
   "mimetype": "text/x-python",
   "name": "python",
   "nbconvert_exporter": "python",
   "pygments_lexer": "ipython3",
   "version": "3.6.4"
  }
 },
 "nbformat": 4,
 "nbformat_minor": 2
}
