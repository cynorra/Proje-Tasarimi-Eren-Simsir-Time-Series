{
  "cells": [
    {
      "cell_type": "markdown",
      "metadata": {
        "id": "HH33dzVjfEiO"
      },
      "source": [
        "VERI SETI: https://www.tcmb.gov.tr/wps/wcm/connect/TR/TCMB+TR/Main+Menu/Istatistikler/Enflasyon+Verileri/Tuketici+Fiyatlari<br>\n",
        "EVDS API kullanÄ±lmÄ±ÅŸtÄ±r"
      ]
    },
    {
      "cell_type": "code",
      "execution_count": 14,
      "metadata": {
        "id": "DjeEeWtxfEiP"
      },
      "outputs": [],
      "source": [
        "import warnings\n",
        "warnings.filterwarnings(\"ignore\")"
      ]
    },
    {
      "cell_type": "code",
      "execution_count": 15,
      "metadata": {
        "id": "Na96hUagfEiP",
        "outputId": "ab66a4f9-52a4-4dc6-e4f1-b52f91cc0273",
        "colab": {
          "base_uri": "https://localhost:8080/"
        }
      },
      "outputs": [
        {
          "output_type": "stream",
          "name": "stdout",
          "text": [
            "Requirement already satisfied: evds in /usr/local/lib/python3.10/dist-packages (0.3.2)\n",
            "Requirement already satisfied: pandas in /usr/local/lib/python3.10/dist-packages (from evds) (2.2.2)\n",
            "Requirement already satisfied: requests in /usr/local/lib/python3.10/dist-packages (from evds) (2.32.3)\n",
            "Requirement already satisfied: urllib3 in /usr/local/lib/python3.10/dist-packages (from evds) (2.2.3)\n",
            "Requirement already satisfied: numpy>=1.22.4 in /usr/local/lib/python3.10/dist-packages (from pandas->evds) (1.26.4)\n",
            "Requirement already satisfied: python-dateutil>=2.8.2 in /usr/local/lib/python3.10/dist-packages (from pandas->evds) (2.8.2)\n",
            "Requirement already satisfied: pytz>=2020.1 in /usr/local/lib/python3.10/dist-packages (from pandas->evds) (2024.2)\n",
            "Requirement already satisfied: tzdata>=2022.7 in /usr/local/lib/python3.10/dist-packages (from pandas->evds) (2024.2)\n",
            "Requirement already satisfied: charset-normalizer<4,>=2 in /usr/local/lib/python3.10/dist-packages (from requests->evds) (3.4.0)\n",
            "Requirement already satisfied: idna<4,>=2.5 in /usr/local/lib/python3.10/dist-packages (from requests->evds) (3.10)\n",
            "Requirement already satisfied: certifi>=2017.4.17 in /usr/local/lib/python3.10/dist-packages (from requests->evds) (2024.8.30)\n",
            "Requirement already satisfied: six>=1.5 in /usr/local/lib/python3.10/dist-packages (from python-dateutil>=2.8.2->pandas->evds) (1.16.0)\n"
          ]
        }
      ],
      "source": [
        "import pandas as pd\n",
        "!pip install evds\n",
        "import evds as ev\n",
        "import matplotlib.pyplot as plt\n",
        "import seaborn as sns\n",
        "import numpy as np"
      ]
    },
    {
      "cell_type": "code",
      "execution_count": 16,
      "metadata": {
        "id": "QGPEBxPQfEiQ",
        "outputId": "a19e57ea-5811-4bb9-b017-f76990710e92",
        "colab": {
          "base_uri": "https://localhost:8080/"
        }
      },
      "outputs": [
        {
          "output_type": "stream",
          "name": "stdout",
          "text": [
            "Requirement already satisfied: arch in /usr/local/lib/python3.10/dist-packages (7.2.0)\n",
            "Requirement already satisfied: numpy>=1.22.3 in /usr/local/lib/python3.10/dist-packages (from arch) (1.26.4)\n",
            "Requirement already satisfied: scipy>=1.8 in /usr/local/lib/python3.10/dist-packages (from arch) (1.13.1)\n",
            "Requirement already satisfied: pandas>=1.4 in /usr/local/lib/python3.10/dist-packages (from arch) (2.2.2)\n",
            "Requirement already satisfied: statsmodels>=0.12 in /usr/local/lib/python3.10/dist-packages (from arch) (0.14.4)\n",
            "Requirement already satisfied: python-dateutil>=2.8.2 in /usr/local/lib/python3.10/dist-packages (from pandas>=1.4->arch) (2.8.2)\n",
            "Requirement already satisfied: pytz>=2020.1 in /usr/local/lib/python3.10/dist-packages (from pandas>=1.4->arch) (2024.2)\n",
            "Requirement already satisfied: tzdata>=2022.7 in /usr/local/lib/python3.10/dist-packages (from pandas>=1.4->arch) (2024.2)\n",
            "Requirement already satisfied: patsy>=0.5.6 in /usr/local/lib/python3.10/dist-packages (from statsmodels>=0.12->arch) (1.0.1)\n",
            "Requirement already satisfied: packaging>=21.3 in /usr/local/lib/python3.10/dist-packages (from statsmodels>=0.12->arch) (24.2)\n",
            "Requirement already satisfied: six>=1.5 in /usr/local/lib/python3.10/dist-packages (from python-dateutil>=2.8.2->pandas>=1.4->arch) (1.16.0)\n"
          ]
        }
      ],
      "source": [
        "!pip install arch\n",
        "from arch.unitroot import ADF,PhillipsPerron,KPSS,ZivotAndrews # birim kÃ¶k testi"
      ]
    },
    {
      "cell_type": "code",
      "execution_count": 17,
      "metadata": {
        "id": "y-QrBo9AfEiQ",
        "outputId": "ccf7e328-4772-4b07-80d8-2055a4d619a4",
        "colab": {
          "base_uri": "https://localhost:8080/"
        }
      },
      "outputs": [
        {
          "output_type": "stream",
          "name": "stdout",
          "text": [
            "Requirement already satisfied: scipy in /usr/local/lib/python3.10/dist-packages (1.13.1)\n",
            "Requirement already satisfied: numpy<2.3,>=1.22.4 in /usr/local/lib/python3.10/dist-packages (from scipy) (1.26.4)\n"
          ]
        }
      ],
      "source": [
        "!pip install scipy\n",
        "from scipy.stats import boxcox"
      ]
    },
    {
      "cell_type": "code",
      "execution_count": 18,
      "metadata": {
        "id": "T3crACemfEiQ",
        "outputId": "c651773f-8980-4cb3-d2fd-ae190b3aea7b",
        "colab": {
          "base_uri": "https://localhost:8080/"
        }
      },
      "outputs": [
        {
          "output_type": "stream",
          "name": "stdout",
          "text": [
            "Requirement already satisfied: statsmodels in /usr/local/lib/python3.10/dist-packages (0.14.4)\n",
            "Requirement already satisfied: numpy<3,>=1.22.3 in /usr/local/lib/python3.10/dist-packages (from statsmodels) (1.26.4)\n",
            "Requirement already satisfied: scipy!=1.9.2,>=1.8 in /usr/local/lib/python3.10/dist-packages (from statsmodels) (1.13.1)\n",
            "Requirement already satisfied: pandas!=2.1.0,>=1.4 in /usr/local/lib/python3.10/dist-packages (from statsmodels) (2.2.2)\n",
            "Requirement already satisfied: patsy>=0.5.6 in /usr/local/lib/python3.10/dist-packages (from statsmodels) (1.0.1)\n",
            "Requirement already satisfied: packaging>=21.3 in /usr/local/lib/python3.10/dist-packages (from statsmodels) (24.2)\n",
            "Requirement already satisfied: python-dateutil>=2.8.2 in /usr/local/lib/python3.10/dist-packages (from pandas!=2.1.0,>=1.4->statsmodels) (2.8.2)\n",
            "Requirement already satisfied: pytz>=2020.1 in /usr/local/lib/python3.10/dist-packages (from pandas!=2.1.0,>=1.4->statsmodels) (2024.2)\n",
            "Requirement already satisfied: tzdata>=2022.7 in /usr/local/lib/python3.10/dist-packages (from pandas!=2.1.0,>=1.4->statsmodels) (2024.2)\n",
            "Requirement already satisfied: six>=1.5 in /usr/local/lib/python3.10/dist-packages (from python-dateutil>=2.8.2->pandas!=2.1.0,>=1.4->statsmodels) (1.16.0)\n"
          ]
        }
      ],
      "source": [
        "!pip install statsmodels\n",
        "from statsmodels.graphics.tsaplots import month_plot, plot_acf\n",
        "import statsmodels.api as sm"
      ]
    },
    {
      "cell_type": "code",
      "execution_count": 21,
      "metadata": {
        "id": "g2k9ABxcfEiQ",
        "outputId": "7b8a6627-0378-43f4-8c0b-f55b5c80ea77",
        "colab": {
          "base_uri": "https://localhost:8080/"
        }
      },
      "outputs": [
        {
          "output_type": "stream",
          "name": "stdout",
          "text": [
            "Collecting salesforce-merlion\n",
            "  Downloading salesforce_merlion-2.0.4-py3-none-any.whl.metadata (18 kB)\n",
            "Requirement already satisfied: cython in /usr/local/lib/python3.10/dist-packages (from salesforce-merlion) (3.0.11)\n",
            "Collecting dill (from salesforce-merlion)\n",
            "  Downloading dill-0.3.9-py3-none-any.whl.metadata (10 kB)\n",
            "Requirement already satisfied: GitPython in /usr/local/lib/python3.10/dist-packages (from salesforce-merlion) (3.1.43)\n",
            "Requirement already satisfied: py4j in /usr/local/lib/python3.10/dist-packages (from salesforce-merlion) (0.10.9.7)\n",
            "Requirement already satisfied: matplotlib in /usr/local/lib/python3.10/dist-packages (from salesforce-merlion) (3.8.0)\n",
            "Requirement already satisfied: plotly>=4.13 in /usr/local/lib/python3.10/dist-packages (from salesforce-merlion) (5.24.1)\n",
            "Requirement already satisfied: numpy<2.0,>=1.21 in /usr/local/lib/python3.10/dist-packages (from salesforce-merlion) (1.26.4)\n",
            "Requirement already satisfied: packaging in /usr/local/lib/python3.10/dist-packages (from salesforce-merlion) (24.2)\n",
            "Requirement already satisfied: pandas>=1.1.0 in /usr/local/lib/python3.10/dist-packages (from salesforce-merlion) (2.2.2)\n",
            "Requirement already satisfied: prophet>=1.1 in /usr/local/lib/python3.10/dist-packages (from salesforce-merlion) (1.1.6)\n",
            "Requirement already satisfied: scikit-learn>=0.22 in /usr/local/lib/python3.10/dist-packages (from salesforce-merlion) (1.5.2)\n",
            "Requirement already satisfied: scipy>=1.6.0 in /usr/local/lib/python3.10/dist-packages (from salesforce-merlion) (1.13.1)\n",
            "Requirement already satisfied: statsmodels>=0.12.2 in /usr/local/lib/python3.10/dist-packages (from salesforce-merlion) (0.14.4)\n",
            "Requirement already satisfied: lightgbm in /usr/local/lib/python3.10/dist-packages (from salesforce-merlion) (4.5.0)\n",
            "Requirement already satisfied: tqdm in /usr/local/lib/python3.10/dist-packages (from salesforce-merlion) (4.66.6)\n",
            "Requirement already satisfied: python-dateutil>=2.8.2 in /usr/local/lib/python3.10/dist-packages (from pandas>=1.1.0->salesforce-merlion) (2.8.2)\n",
            "Requirement already satisfied: pytz>=2020.1 in /usr/local/lib/python3.10/dist-packages (from pandas>=1.1.0->salesforce-merlion) (2024.2)\n",
            "Requirement already satisfied: tzdata>=2022.7 in /usr/local/lib/python3.10/dist-packages (from pandas>=1.1.0->salesforce-merlion) (2024.2)\n",
            "Requirement already satisfied: tenacity>=6.2.0 in /usr/local/lib/python3.10/dist-packages (from plotly>=4.13->salesforce-merlion) (9.0.0)\n",
            "Requirement already satisfied: cmdstanpy>=1.0.4 in /usr/local/lib/python3.10/dist-packages (from prophet>=1.1->salesforce-merlion) (1.2.4)\n",
            "Requirement already satisfied: holidays<1,>=0.25 in /usr/local/lib/python3.10/dist-packages (from prophet>=1.1->salesforce-merlion) (0.61)\n",
            "Requirement already satisfied: importlib-resources in /usr/local/lib/python3.10/dist-packages (from prophet>=1.1->salesforce-merlion) (6.4.5)\n",
            "Requirement already satisfied: contourpy>=1.0.1 in /usr/local/lib/python3.10/dist-packages (from matplotlib->salesforce-merlion) (1.3.1)\n",
            "Requirement already satisfied: cycler>=0.10 in /usr/local/lib/python3.10/dist-packages (from matplotlib->salesforce-merlion) (0.12.1)\n",
            "Requirement already satisfied: fonttools>=4.22.0 in /usr/local/lib/python3.10/dist-packages (from matplotlib->salesforce-merlion) (4.55.0)\n",
            "Requirement already satisfied: kiwisolver>=1.0.1 in /usr/local/lib/python3.10/dist-packages (from matplotlib->salesforce-merlion) (1.4.7)\n",
            "Requirement already satisfied: pillow>=6.2.0 in /usr/local/lib/python3.10/dist-packages (from matplotlib->salesforce-merlion) (11.0.0)\n",
            "Requirement already satisfied: pyparsing>=2.3.1 in /usr/local/lib/python3.10/dist-packages (from matplotlib->salesforce-merlion) (3.2.0)\n",
            "Requirement already satisfied: joblib>=1.2.0 in /usr/local/lib/python3.10/dist-packages (from scikit-learn>=0.22->salesforce-merlion) (1.4.2)\n",
            "Requirement already satisfied: threadpoolctl>=3.1.0 in /usr/local/lib/python3.10/dist-packages (from scikit-learn>=0.22->salesforce-merlion) (3.5.0)\n",
            "Requirement already satisfied: patsy>=0.5.6 in /usr/local/lib/python3.10/dist-packages (from statsmodels>=0.12.2->salesforce-merlion) (1.0.1)\n",
            "Requirement already satisfied: gitdb<5,>=4.0.1 in /usr/local/lib/python3.10/dist-packages (from GitPython->salesforce-merlion) (4.0.11)\n",
            "Requirement already satisfied: stanio<2.0.0,>=0.4.0 in /usr/local/lib/python3.10/dist-packages (from cmdstanpy>=1.0.4->prophet>=1.1->salesforce-merlion) (0.5.1)\n",
            "Requirement already satisfied: smmap<6,>=3.0.1 in /usr/local/lib/python3.10/dist-packages (from gitdb<5,>=4.0.1->GitPython->salesforce-merlion) (5.0.1)\n",
            "Requirement already satisfied: six>=1.5 in /usr/local/lib/python3.10/dist-packages (from python-dateutil>=2.8.2->pandas>=1.1.0->salesforce-merlion) (1.16.0)\n",
            "Downloading salesforce_merlion-2.0.4-py3-none-any.whl (1.3 MB)\n",
            "\u001b[2K   \u001b[90m━━━━━━━━━━━━━━━━━━━━━━━━━━━━━━━━━━━━━━━━\u001b[0m \u001b[32m1.3/1.3 MB\u001b[0m \u001b[31m26.5 MB/s\u001b[0m eta \u001b[36m0:00:00\u001b[0m\n",
            "\u001b[?25hDownloading dill-0.3.9-py3-none-any.whl (119 kB)\n",
            "\u001b[2K   \u001b[90m━━━━━━━━━━━━━━━━━━━━━━━━━━━━━━━━━━━━━━━━\u001b[0m \u001b[32m119.4/119.4 kB\u001b[0m \u001b[31m8.3 MB/s\u001b[0m eta \u001b[36m0:00:00\u001b[0m\n",
            "\u001b[?25hInstalling collected packages: dill, salesforce-merlion\n",
            "Successfully installed dill-0.3.9 salesforce-merlion-2.0.4\n"
          ]
        }
      ],
      "source": [
        "!pip install salesforce-merlion\n",
        "from merlion.models.utils.autosarima_utils import nsdiffs"
      ]
    },
    {
      "cell_type": "code",
      "execution_count": 22,
      "metadata": {
        "id": "xf3gepc6fEiQ"
      },
      "outputs": [],
      "source": [
        "from sklearn.preprocessing import PolynomialFeatures\n",
        "from scipy.special import inv_boxcox  # boxcox'Ä± tersine Ã§evirmek iÃ§in"
      ]
    },
    {
      "cell_type": "code",
      "execution_count": 23,
      "metadata": {
        "id": "MHP3AsGOfEiQ"
      },
      "outputs": [],
      "source": [
        "from sklearn.metrics import r2_score, mean_squared_error"
      ]
    },
    {
      "cell_type": "code",
      "execution_count": 24,
      "metadata": {
        "id": "l0TgjhaPfEiR"
      },
      "outputs": [],
      "source": [
        "from statsmodels.tsa.holtwinters import Holt, ExponentialSmoothing"
      ]
    },
    {
      "cell_type": "code",
      "execution_count": 25,
      "metadata": {
        "id": "nKnioqN3fEiR",
        "outputId": "e9ace19e-0a0c-48b9-8f99-7d44c65be9e9",
        "colab": {
          "base_uri": "https://localhost:8080/"
        }
      },
      "outputs": [
        {
          "output_type": "stream",
          "name": "stdout",
          "text": [
            "Collecting pmdarima\n",
            "  Downloading pmdarima-2.0.4-cp310-cp310-manylinux_2_17_x86_64.manylinux2014_x86_64.manylinux_2_28_x86_64.whl.metadata (7.8 kB)\n",
            "Requirement already satisfied: joblib>=0.11 in /usr/local/lib/python3.10/dist-packages (from pmdarima) (1.4.2)\n",
            "Requirement already satisfied: Cython!=0.29.18,!=0.29.31,>=0.29 in /usr/local/lib/python3.10/dist-packages (from pmdarima) (3.0.11)\n",
            "Requirement already satisfied: numpy>=1.21.2 in /usr/local/lib/python3.10/dist-packages (from pmdarima) (1.26.4)\n",
            "Requirement already satisfied: pandas>=0.19 in /usr/local/lib/python3.10/dist-packages (from pmdarima) (2.2.2)\n",
            "Requirement already satisfied: scikit-learn>=0.22 in /usr/local/lib/python3.10/dist-packages (from pmdarima) (1.5.2)\n",
            "Requirement already satisfied: scipy>=1.3.2 in /usr/local/lib/python3.10/dist-packages (from pmdarima) (1.13.1)\n",
            "Requirement already satisfied: statsmodels>=0.13.2 in /usr/local/lib/python3.10/dist-packages (from pmdarima) (0.14.4)\n",
            "Requirement already satisfied: urllib3 in /usr/local/lib/python3.10/dist-packages (from pmdarima) (2.2.3)\n",
            "Requirement already satisfied: setuptools!=50.0.0,>=38.6.0 in /usr/local/lib/python3.10/dist-packages (from pmdarima) (75.1.0)\n",
            "Requirement already satisfied: packaging>=17.1 in /usr/local/lib/python3.10/dist-packages (from pmdarima) (24.2)\n",
            "Requirement already satisfied: python-dateutil>=2.8.2 in /usr/local/lib/python3.10/dist-packages (from pandas>=0.19->pmdarima) (2.8.2)\n",
            "Requirement already satisfied: pytz>=2020.1 in /usr/local/lib/python3.10/dist-packages (from pandas>=0.19->pmdarima) (2024.2)\n",
            "Requirement already satisfied: tzdata>=2022.7 in /usr/local/lib/python3.10/dist-packages (from pandas>=0.19->pmdarima) (2024.2)\n",
            "Requirement already satisfied: threadpoolctl>=3.1.0 in /usr/local/lib/python3.10/dist-packages (from scikit-learn>=0.22->pmdarima) (3.5.0)\n",
            "Requirement already satisfied: patsy>=0.5.6 in /usr/local/lib/python3.10/dist-packages (from statsmodels>=0.13.2->pmdarima) (1.0.1)\n",
            "Requirement already satisfied: six>=1.5 in /usr/local/lib/python3.10/dist-packages (from python-dateutil>=2.8.2->pandas>=0.19->pmdarima) (1.16.0)\n",
            "Downloading pmdarima-2.0.4-cp310-cp310-manylinux_2_17_x86_64.manylinux2014_x86_64.manylinux_2_28_x86_64.whl (2.1 MB)\n",
            "\u001b[2K   \u001b[90m━━━━━━━━━━━━━━━━━━━━━━━━━━━━━━━━━━━━━━━━\u001b[0m \u001b[32m2.1/2.1 MB\u001b[0m \u001b[31m22.7 MB/s\u001b[0m eta \u001b[36m0:00:00\u001b[0m\n",
            "\u001b[?25hInstalling collected packages: pmdarima\n",
            "Successfully installed pmdarima-2.0.4\n"
          ]
        }
      ],
      "source": [
        "!pip install pmdarima\n",
        "from pmdarima import auto_arima\n",
        "from statsmodels.tsa.statespace.sarimax import SARIMAX"
      ]
    },
    {
      "cell_type": "code",
      "execution_count": 26,
      "metadata": {
        "id": "oSQu8DskfEiR"
      },
      "outputs": [],
      "source": [
        "from statsmodels.stats.diagnostic import acorr_ljungbox, het_arch, acorr_breusch_godfrey"
      ]
    },
    {
      "cell_type": "code",
      "execution_count": 27,
      "metadata": {
        "id": "EJ1TV-PGfEiR"
      },
      "outputs": [],
      "source": [
        "from statsmodels.tsa.x13 import x13_arima_select_order # normal order ve seasonal order yapÄ±larÄ±nÄ± ortaya Ã§Ä±kartÄ±r.\n",
        "import os"
      ]
    },
    {
      "cell_type": "code",
      "execution_count": 28,
      "metadata": {
        "id": "Fype4-qLfEiR"
      },
      "outputs": [],
      "source": [
        "from statsmodels.tsa.seasonal import seasonal_decompose"
      ]
    },
    {
      "cell_type": "code",
      "execution_count": 29,
      "metadata": {
        "id": "a6tj4h27fEiR"
      },
      "outputs": [],
      "source": [
        "from scipy.stats import ttest_1samp, jarque_bera\n",
        "from arch import arch_model"
      ]
    },
    {
      "cell_type": "code",
      "execution_count": 30,
      "metadata": {
        "id": "gBPgyzayfEiR",
        "outputId": "71642c74-37c7-4089-a5d0-1d2dfe21957e",
        "colab": {
          "base_uri": "https://localhost:8080/",
          "height": 193
        }
      },
      "outputs": [
        {
          "output_type": "error",
          "ename": "FileNotFoundError",
          "evalue": "[Errno 2] No such file or directory: 'C:/Users/erens/OneDrive/MasaÃ¼stÃ¼/banalysis/evdsapi.txt'",
          "traceback": [
            "\u001b[0;31m---------------------------------------------------------------------------\u001b[0m",
            "\u001b[0;31mFileNotFoundError\u001b[0m                         Traceback (most recent call last)",
            "\u001b[0;32m<ipython-input-30-d6bca5533d26>\u001b[0m in \u001b[0;36m<cell line: 1>\u001b[0;34m()\u001b[0m\n\u001b[0;32m----> 1\u001b[0;31m \u001b[0;32mwith\u001b[0m \u001b[0mopen\u001b[0m\u001b[0;34m(\u001b[0m\u001b[0;34m\"C:/Users/erens/OneDrive/MasaÃ¼stÃ¼/banalysis/evdsapi.txt\"\u001b[0m\u001b[0;34m)\u001b[0m \u001b[0;32mas\u001b[0m \u001b[0mdosya\u001b[0m\u001b[0;34m:\u001b[0m\u001b[0;34m\u001b[0m\u001b[0;34m\u001b[0m\u001b[0m\n\u001b[0m\u001b[1;32m      2\u001b[0m     \u001b[0mapi\u001b[0m \u001b[0;34m=\u001b[0m \u001b[0mdosya\u001b[0m\u001b[0;34m.\u001b[0m\u001b[0mread\u001b[0m\u001b[0;34m(\u001b[0m\u001b[0;34m)\u001b[0m\u001b[0;34m\u001b[0m\u001b[0;34m\u001b[0m\u001b[0m\n\u001b[1;32m      3\u001b[0m \u001b[0;34m\u001b[0m\u001b[0m\n\u001b[1;32m      4\u001b[0m \u001b[0mevds\u001b[0m \u001b[0;34m=\u001b[0m \u001b[0mev\u001b[0m\u001b[0;34m.\u001b[0m\u001b[0mevdsAPI\u001b[0m\u001b[0;34m(\u001b[0m\u001b[0mapi\u001b[0m\u001b[0;34m)\u001b[0m\u001b[0;34m\u001b[0m\u001b[0;34m\u001b[0m\u001b[0m\n",
            "\u001b[0;31mFileNotFoundError\u001b[0m: [Errno 2] No such file or directory: 'C:/Users/erens/OneDrive/MasaÃ¼stÃ¼/banalysis/evdsapi.txt'"
          ]
        }
      ],
      "source": [
        "api = 5Nca6TRSIR\n",
        "\n",
        "evds = ev.evdsAPI(api)"
      ]
    },
    {
      "cell_type": "code",
      "execution_count": null,
      "metadata": {
        "id": "gMTn6-gJfEiS"
      },
      "outputs": [],
      "source": [
        "tufe = evds.get_data([\"TP.FG.J0\"],startdate=\"01-01-2003\",enddate=\"01-02-2025\",frequency=5)\n",
        "tufe.rename(columns={\"TP_FG_J0\":\"TUFE\"},inplace=True) # veri seti dÃ¼zenleme"
      ]
    },
    {
      "cell_type": "code",
      "execution_count": null,
      "metadata": {
        "id": "2ogu65t5fEiS"
      },
      "outputs": [],
      "source": [
        "tarih=pd.date_range(\"01-01-2003\",periods=len(tufe),freq=\"M\") # tarih indekslemek iÃ§in\n",
        "tufe[\"Tarih\"]=tarih\n",
        "tufe.set_index(\"Tarih\",inplace=True) # aylÄ±k indeksleme yaptÄ±k"
      ]
    },
    {
      "cell_type": "markdown",
      "metadata": {
        "id": "2WE-bENUfEiS"
      },
      "source": [
        "\n",
        "<br>\n",
        "df = tufe.resample(\"Y\").mean() # yÄ±llÄ±k ortalama tÃ¼fe (tÃ¼ketici fiyatlarÄ±)<br>\n",
        "df.index = df.index.year<br>\n",
        "sns.heatmap(df,annot=True,fmt=\".2f\",cmap=\"Reds\")<br>\n",
        "plt.show()<br>\n",
        "# tufe degerlerinden enflasyon hesaplamasi yapilcak ( veri islenecek )<br>\n",
        "tufe[\"Enflasyon\"] = tufe.pct_change()*100 # aylÄ±k enflasyon<br>\n",
        "print(tufe)<br>\n"
      ]
    },
    {
      "cell_type": "code",
      "execution_count": null,
      "metadata": {
        "id": "gVMYcjlofEiS"
      },
      "outputs": [],
      "source": [
        "enfay = tufe.pct_change() * 100\n",
        "enfay.dropna(inplace=True)\n",
        "enfay = pd.DataFrame(enfay)\n",
        "enfay.rename(columns={\"TUFE\":\"Enf\"},inplace=True)"
      ]
    },
    {
      "cell_type": "markdown",
      "metadata": {
        "id": "s2uP5Qc7fEiS"
      },
      "source": [
        "\n",
        "<br>\n",
        "plt.plot(tufe)<br>\n",
        "plt.show()<br>\n"
      ]
    },
    {
      "cell_type": "code",
      "execution_count": null,
      "metadata": {
        "id": "DuN-nJ_efEiS"
      },
      "outputs": [],
      "source": [
        "adf = ADF(tufe,trend=\"ct\")\n",
        "pp = PhillipsPerron(tufe,trend=\"ct\")\n",
        "kpss = KPSS(tufe,trend=\"ct\")"
      ]
    },
    {
      "cell_type": "markdown",
      "metadata": {
        "id": "X3bgCLWkfEiS"
      },
      "source": [
        "rint(adf) # regresyon analizi yapÄ±yor - test statistic - p value ve lags degerleri cikiyor<br>\n",
        "rint(pp)<br>\n",
        "rint(kpss)"
      ]
    },
    {
      "cell_type": "markdown",
      "metadata": {
        "id": "FnkSVK2yfEiS"
      },
      "source": [
        "p value -> h0 testi 1 veya 0 || 0 ise h0 reddedilir duragandir."
      ]
    },
    {
      "cell_type": "markdown",
      "metadata": {
        "id": "EW9W6KsWfEiS"
      },
      "source": [
        "yapisal kirilma testi<br>\n",
        "c - sabit - ct sabit trendi - t direkt trend"
      ]
    },
    {
      "cell_type": "markdown",
      "metadata": {
        "id": "9_Sz8rc2fEiT"
      },
      "source": [
        "rint('yapisal kirilma')"
      ]
    },
    {
      "cell_type": "code",
      "execution_count": null,
      "metadata": {
        "id": "QqP9MWCzfEiT"
      },
      "outputs": [],
      "source": [
        "trend = [\"c\",\"ct\",\"t\"] # yapisal kirilma olabilir mi ?"
      ]
    },
    {
      "cell_type": "code",
      "execution_count": null,
      "metadata": {
        "id": "gpoXQvB0fEiT"
      },
      "outputs": [],
      "source": [
        "for i in trend:\n",
        "    z = ZivotAndrews(tufe,trend=i)\n",
        "    #print(z)"
      ]
    },
    {
      "cell_type": "markdown",
      "metadata": {
        "id": "hZ6xJgzrfEiT"
      },
      "source": [
        "h0 'Ä± reddedemedigimiz icin (duragan bulamadigimiz icin) yapisal kirilma (anlamli) yok. - p value 1 ciktigindan h1 reddedilir."
      ]
    },
    {
      "cell_type": "code",
      "execution_count": null,
      "metadata": {
        "id": "kiw90HSVfEiT"
      },
      "outputs": [],
      "source": [
        "tufe_train = tufe.iloc[:36]\n",
        "tufe_test = tufe.iloc[-36:]\n",
        "#print(tufe_test)"
      ]
    },
    {
      "cell_type": "markdown",
      "metadata": {
        "id": "jEa1ETbMfEiT"
      },
      "source": [
        "boxcox"
      ]
    },
    {
      "cell_type": "code",
      "execution_count": null,
      "metadata": {
        "id": "DCr1pKEcfEiT"
      },
      "outputs": [],
      "source": [
        "tufe_train_bx,lm = boxcox(tufe_train[\"TUFE\"])\n",
        "tufe_train[\"Box-Cox\"] = tufe_train_bx"
      ]
    },
    {
      "cell_type": "markdown",
      "metadata": {
        "id": "aebLvKNpfEiT"
      },
      "source": [
        "\n",
        "<br>\n",
        "print(tufe_train)<br>\n",
        "# regresyon modelinde deterministik trend anlamli cikti.<br>\n"
      ]
    },
    {
      "cell_type": "markdown",
      "metadata": {
        "id": "dsYqk0tNfEiU"
      },
      "source": [
        "- - - -"
      ]
    },
    {
      "cell_type": "code",
      "execution_count": null,
      "metadata": {
        "id": "CWC7pHW-fEiU"
      },
      "outputs": [],
      "source": [
        "tufe_train[\"Aylar\"] = tufe_train.index.month\n",
        "dummy=pd.get_dummies(tufe_train[\"Aylar\"],prefix=\"Aylar\",dtype=int,drop_first=False) #kukla deÄŸiÅŸkenlere Ã§evrilerek regresyon modeli oluÅŸturulur. Aylar deÄŸeri 2 ise Aylar_2 gibi sÃ¼tun deÄŸiÅŸkeni oluÅŸturur. KolaylÄ±k saÄŸlar.\n",
        "tufe_train=pd.concat([tufe_train,dummy],axis=1)"
      ]
    },
    {
      "cell_type": "markdown",
      "metadata": {
        "id": "onYH4-pEfEiU"
      },
      "source": [
        "######## stats models"
      ]
    },
    {
      "cell_type": "code",
      "execution_count": null,
      "metadata": {
        "id": "jez9-tFVfEiU"
      },
      "outputs": [],
      "source": [
        "x = tufe_train.drop(columns=[\"TUFE\",\"Box-Cox\",\"Aylar\"])\n",
        "y = tufe_train[\"TUFE\"]\n",
        "model = sm.OLS(y,x).fit() # stat models regression linear model OLS\n",
        "# print(model.summary())\n",
        "# mevsimsellik bir deterministik yok,"
      ]
    },
    {
      "cell_type": "markdown",
      "metadata": {
        "id": "-D-lHoMxfEiU"
      },
      "source": [
        "######## stokastik mevsimsellik kontrol - merlion"
      ]
    },
    {
      "cell_type": "code",
      "execution_count": null,
      "metadata": {
        "id": "ImRf2o4_fEiU"
      },
      "outputs": [],
      "source": [
        "a = nsdiffs(tufe_train[\"Box-Cox\"],m=12,test=\"ch\")\n",
        "b = nsdiffs(tufe_train[\"Box-Cox\"],m=12,test=\"ocsb\")"
      ]
    },
    {
      "cell_type": "markdown",
      "metadata": {
        "id": "lYwM4bWsfEiY"
      },
      "source": [
        "rint(a)<br>\n",
        "rint(b)"
      ]
    },
    {
      "cell_type": "markdown",
      "metadata": {
        "id": "7zFZ7GC2fEiY"
      },
      "source": [
        "######## indeksleme | regresyon modelleme yapabilmek iÃ§in"
      ]
    },
    {
      "cell_type": "code",
      "execution_count": null,
      "metadata": {
        "id": "zju5c9YIfEiY"
      },
      "outputs": [],
      "source": [
        "indeks = np.arange(1,len(tufe_train)+1)\n",
        "tufe_train[\"T\"] = indeks"
      ]
    },
    {
      "cell_type": "code",
      "execution_count": null,
      "metadata": {
        "id": "j-pXWAabfEiY"
      },
      "outputs": [],
      "source": [
        "x = sm.add_constant(tufe_train[\"T\"])\n",
        "y = tufe_train[\"Box-Cox\"]"
      ]
    },
    {
      "cell_type": "markdown",
      "metadata": {
        "id": "OjPTWtxAfEiY"
      },
      "source": [
        "model testing"
      ]
    },
    {
      "cell_type": "code",
      "execution_count": null,
      "metadata": {
        "id": "kZ_9E6TefEiZ"
      },
      "outputs": [],
      "source": [
        "model = sm.OLS(y,x).fit()\n",
        "# print(model.summary())"
      ]
    },
    {
      "cell_type": "code",
      "execution_count": null,
      "metadata": {
        "id": "OCSTuFT8fEiZ"
      },
      "outputs": [],
      "source": [
        "pol = PolynomialFeatures(degree=3)\n",
        "xp = pol.fit_transform(tufe_train[\"T\"].values.reshape(-1,1))"
      ]
    },
    {
      "cell_type": "markdown",
      "metadata": {
        "id": "jEgprMf_fEiZ"
      },
      "source": [
        "model testing"
      ]
    },
    {
      "cell_type": "code",
      "execution_count": null,
      "metadata": {
        "id": "GdeCNYrWfEiZ"
      },
      "outputs": [],
      "source": [
        "model = sm.OLS(y,xp).fit()\n",
        "# print(model.summary())\n",
        "# Durbin Watson deÄŸeri artmasÄ±na raÄŸmen p deÄŸeri arttÄ±"
      ]
    },
    {
      "cell_type": "markdown",
      "metadata": {
        "id": "jurNZ3S7fEiZ"
      },
      "source": []
    },
    {
      "cell_type": "code",
      "execution_count": null,
      "metadata": {
        "id": "Jlvxh-HRfEiZ"
      },
      "outputs": [],
      "source": [
        "girdi = np.arange(len(tufe_train.index)+1,len(tufe_train.index)+37)\n",
        "tahmin = model.predict(pol.fit_transform(girdi.reshape(-1, 1)))\n",
        "tahmin = inv_boxcox(tahmin,lm) # yukarda kullandigimiz lambda degerini gonderdik\n",
        "tufe_test[\"Tahmin\"] = tahmin   # duraÄŸan olmadÄ±ÄŸÄ± iÃ§in sahte regresyonlarla Ã§ok verimli iÅŸlem yapamÄ±yoruz.\n",
        "# print(tufe_test) # TUFE deÄŸerleriyle Tahmin deÄŸerlerimiz arasÄ±nda ciddi fark var - anlamsiz."
      ]
    },
    {
      "cell_type": "markdown",
      "metadata": {
        "id": "BGW3QXEmfEiZ"
      },
      "source": [
        "print(r2_score(tufe_test[\"TUFE\"],tufe_test[\"Tahmin\"]))  # r2 score deÄŸeri -5.23 geldi<br>\n",
        "eÄŸitimde %99 luk basari olmasina ragmen testlerde durum kÃ¶tÃ¼. <br>\n",
        "duraÄŸanlÄ±k olduÄŸunu gÃ¶steriyor.<br>\n",
        "r2 yapisi sahte regresyon oldugunu anlayabiliyoruz."
      ]
    },
    {
      "cell_type": "markdown",
      "metadata": {
        "id": "ejaRjq9dfEiZ"
      },
      "source": [
        "########################## USTEL DUZELTMELER"
      ]
    },
    {
      "cell_type": "markdown",
      "metadata": {
        "id": "jPitXYbYfEia"
      },
      "source": [
        "### HOLT MODEL<br>\n",
        "HOLT model RMSE = 1468.83"
      ]
    },
    {
      "cell_type": "code",
      "execution_count": null,
      "metadata": {
        "id": "p8nLmprRfEia"
      },
      "outputs": [],
      "source": [
        "model = Holt(tufe_train[\"Box-Cox\"]).fit(optimized=True)\n",
        "tahmin = model.forecast(36) # 36 test verisi\n",
        "tahmin = inv_boxcox(tahmin,lm) # boxcox dÃ¶nÃ¼ÅŸÃ¼mÃ¼"
      ]
    },
    {
      "cell_type": "markdown",
      "metadata": {
        "id": "JQAAQSh-fEia"
      },
      "source": [
        "print(r2_score(tufe_test[\"TUFE\"],tahmin))  # -5.2680<br>\n",
        "print(np.sqrt(mean_squared_error(tufe_test[\"TUFE\"],tahmin))) # HOLT model RMSE = 1468.83"
      ]
    },
    {
      "cell_type": "markdown",
      "metadata": {
        "id": "8MoiJrpMfEia"
      },
      "source": [
        "### HOLT WINTERS MODEL<br>\n",
        "HOLT WINTERS model RMSE min 1471 Ã§Ä±ktÄ±."
      ]
    },
    {
      "cell_type": "markdown",
      "metadata": {
        "id": "ObW0a-mQfEia"
      },
      "source": [
        "Ã§arpÄ±msal ve toplamsal olarak tiplere bakÄ±lacak<br>\n",
        "seride 0 deÄŸer varsa sÄ±fÄ±rlayacaÄŸÄ±ndan normalde sÄ±kÄ±ntÄ± Ã§Ä±kartabilen bir model."
      ]
    },
    {
      "cell_type": "code",
      "execution_count": null,
      "metadata": {
        "id": "w2Jc3zm9fEia"
      },
      "outputs": [],
      "source": [
        "trend_tip = [\"add\",\"mul\"]\n",
        "seas_tip = [\"add\",\"mul\"]\n",
        "per = range(2,13) # periyot - mevsimsellik kalÄ±bÄ±"
      ]
    },
    {
      "cell_type": "code",
      "execution_count": null,
      "metadata": {
        "id": "zjZy6h37fEia"
      },
      "outputs": [],
      "source": [
        "sonuc = pd.DataFrame(columns=[\"Trend\",\"Mevsimsellik\",\"Periyod\",\"R2\",\"RMSE\"])"
      ]
    },
    {
      "cell_type": "code",
      "execution_count": null,
      "metadata": {
        "id": "XXXSFjwrfEib"
      },
      "outputs": [],
      "source": [
        "for i in trend_tip:\n",
        "    for j in seas_tip:\n",
        "        for k in per:\n",
        "            model = ExponentialSmoothing(tufe_train[\"Box-Cox\"],trend=i,seasonal=j,seasonal_periods=k).fit(optimized=True)\n",
        "            tahmin = model.forecast(36) # 36 veri iÃ§in\n",
        "            tahmin = inv_boxcox(tahmin,lm)\n",
        "            rmse = np.sqrt(mean_squared_error(tufe_test[\"TUFE\"],tahmin))\n",
        "            sonuc = sonuc._append({\"Trend\":i,\"Mevsimsellik\":j,\"Periyod\":k,\"RMSE:\":rmse},ignore_index=True)"
      ]
    },
    {
      "cell_type": "code",
      "execution_count": null,
      "metadata": {
        "id": "jdDjqg5FfEib"
      },
      "outputs": [],
      "source": [
        "sonuc = sonuc.sort_values(by=\"RMSE\") # sutun adÄ±na gÃ¶re df'yi sortla\n",
        "# print(sonuc)  minimum RMSE 1471 Ã§Ä±ktÄ±."
      ]
    },
    {
      "cell_type": "markdown",
      "metadata": {
        "id": "Sr63i0j6fEib"
      },
      "source": [
        "### ARIMA"
      ]
    },
    {
      "cell_type": "code",
      "execution_count": null,
      "metadata": {
        "id": "RhY9bpTKfEib"
      },
      "outputs": [],
      "source": [
        "model = auto_arima(tufe_train[\"Box-Cox\"],seasonal=False,trace=False)\n",
        "# print(model.summary())\n",
        "# AIC -> -130\n",
        "# SARIMAX(2, 1, 1) kullanÄ±ldÄ±"
      ]
    },
    {
      "cell_type": "markdown",
      "metadata": {
        "id": "b-QnqCEkfEib"
      },
      "source": [
        "seasonal yapisi kullanÄ±larak"
      ]
    },
    {
      "cell_type": "code",
      "execution_count": null,
      "metadata": {
        "id": "MSsU1Z-PfEib"
      },
      "outputs": [],
      "source": [
        "sonuc = pd.DataFrame(columns=[\"m\",\"AIC\"])"
      ]
    },
    {
      "cell_type": "code",
      "execution_count": null,
      "metadata": {
        "id": "fR3Eho90fEic"
      },
      "outputs": [],
      "source": [
        "for i in range(2,13):\n",
        "    model = auto_arima(tufe_train[\"Box-Cox\"],seasonal=True,trace=False,m=i)\n",
        "    sonuc = sonuc._append({\"m\":i,\"AIC\":model.aic()},ignore_index=True)"
      ]
    },
    {
      "cell_type": "code",
      "execution_count": null,
      "metadata": {
        "id": "W6j3o1enfEic"
      },
      "outputs": [],
      "source": [
        "sonuc = sonuc.sort_values(by=\"AIC\")\n",
        "# print(sonuc)"
      ]
    },
    {
      "cell_type": "markdown",
      "metadata": {
        "id": "nrJXkSVFfEic"
      },
      "source": [
        "### SARIMAX"
      ]
    },
    {
      "cell_type": "code",
      "execution_count": null,
      "metadata": {
        "id": "7hKIqwrKfEic"
      },
      "outputs": [],
      "source": [
        "model = SARIMAX(tufe_train[\"Box-Cox\"],order=(0,1,1),seasonal_order=(2,0,1,12),trend=\"c\").fit()\n",
        "# ma.l1 0 ise problem yok, 0'dan buyuk degerler icin problemdir\n",
        "# order parametresinde buna dikkat edicez\n",
        "# model summary kÄ±smÄ±nda Model:SARIMAX(0,1,2)x(2,..) gibi devam eden kÄ±sÄ±mda\n",
        "# L1'de sÄ±kÄ±ntÄ± olmadÄ±ÄŸÄ± iÃ§in SARIMAX'Ä±n 0,1 degerlerini aldik.\n",
        "# 2'yi 1'e indirdik ma.l2 1'den buyuk sÄ±kÄ±ntÄ±lÄ± oldugu icin\n",
        "# z ve P>|z| degerlerine bakarak cevap verdik.\n",
        "# intercept yapÄ±sÄ±nda oldugundan trend=\"c\" (constant-sabit) parametresi ekledik"
      ]
    },
    {
      "cell_type": "markdown",
      "metadata": {
        "id": "Lhsblcu6fEic"
      },
      "source": [
        "print(model.summary())<br>\n",
        "AIC -> -120<br>\n",
        "SARIMAX(0, 1, 1)"
      ]
    },
    {
      "cell_type": "markdown",
      "metadata": {
        "id": "VaRJIwOGfEic"
      },
      "source": [
        "############### ARIMA KULLANILACAK<br>\n",
        "oto korelasyon olmayacak<br>\n",
        "arch etkisi olmayacak"
      ]
    },
    {
      "cell_type": "markdown",
      "metadata": {
        "id": "9cIiwFQ3fEic"
      },
      "source": [
        "q model"
      ]
    },
    {
      "cell_type": "code",
      "execution_count": null,
      "metadata": {
        "id": "b0rn-56vfEid"
      },
      "outputs": [],
      "source": [
        "q = acorr_ljungbox(model.resid)\n",
        "h = het_arch(model.resid,nlags=1,ddof=3)[1] # modeli eÄŸitirken 3 parametre kullandÄ±ÄŸÄ±mÄ±z iÃ§in\n",
        "# serbestlik derecesi ddof 3 oldu."
      ]
    },
    {
      "cell_type": "markdown",
      "metadata": {
        "id": "FO1QDKpVfEid"
      },
      "source": [
        "print(q)<br>\n",
        "print(h)"
      ]
    },
    {
      "cell_type": "markdown",
      "metadata": {
        "id": "5ytTs_OyfEid"
      },
      "source": [
        "##### seasonal order kullanÄ±mÄ±"
      ]
    },
    {
      "cell_type": "markdown",
      "metadata": {
        "id": "cjmk2h0lfEid"
      },
      "source": [
        "model = SARIMAX(tufe_train[\"Box-Cox\"],order = (0,1,1), seasonal_order=(1,0,1,12),trend=\"n\").fit()"
      ]
    },
    {
      "cell_type": "markdown",
      "metadata": {
        "id": "AwuzdjGrfEid"
      },
      "source": [
        "path = r'C:\\WinX13\\x13as'<br>\n",
        "arima = x13_arima_select_order(tufe_train[\"Box-Cox\"],x12path = path, outlier=True)<br>\n",
        "outlier - aykiri gÃ¶zlem varsa dikkate alir"
      ]
    },
    {
      "cell_type": "markdown",
      "metadata": {
        "id": "ZToDy7LSfEid"
      },
      "source": [
        "print(arima.order) # order (1,1,0)<br>\n",
        "print(arima.sorder)  # seasonal order (0,1,1,12)"
      ]
    },
    {
      "cell_type": "markdown",
      "metadata": {
        "id": "qMnpImrSfEid"
      },
      "source": [
        "#######"
      ]
    },
    {
      "cell_type": "code",
      "execution_count": null,
      "metadata": {
        "id": "W6AEx2o_fEid"
      },
      "outputs": [],
      "source": [
        "enfay = tufe[\"TUFE\"].pct_change() * 100\n",
        "enfay.dropna(inplace=True)\n",
        "enfay = pd.DataFrame(enfay)\n",
        "enfay.rename(columns={\"TUFE\":\"Enf\"},inplace = True)"
      ]
    },
    {
      "cell_type": "code",
      "execution_count": null,
      "metadata": {
        "id": "tea0uu7EfEie"
      },
      "outputs": [],
      "source": [
        "enf_train = enfay.iloc[:-36]\n",
        "enf_test = enfay.iloc[-36:]"
      ]
    },
    {
      "cell_type": "code",
      "execution_count": null,
      "metadata": {
        "id": "uCoD6oHdfEie"
      },
      "outputs": [],
      "source": [
        "ayrÄ±s = seasonal_decompose(enf_train[\"Enf\"],model=\"add\", period = 12, extrapolate_trend = \"freq\")\n",
        "# ayrÄ±s.plot()\n",
        "# plt.show()"
      ]
    },
    {
      "cell_type": "code",
      "execution_count": null,
      "metadata": {
        "id": "QKRW4hYJfEie"
      },
      "outputs": [],
      "source": [
        "veri = pd.concat([\n",
        "    ayrÄ±s.observed,\n",
        "    ayrÄ±s.trend,\n",
        "    ayrÄ±s.seasonal,\n",
        "    ayrÄ±s.observed - ayrÄ±s.seasonal, # toplamsal model kullandigimiz icin / yerine Ã§Ä±kartma yaptÄ±k\n",
        "    ayrÄ±s.resid],axis=1)        # resid -> rassal"
      ]
    },
    {
      "cell_type": "code",
      "execution_count": null,
      "metadata": {
        "id": "1zg3K6JOfEie"
      },
      "outputs": [],
      "source": [
        "veri.columns = [\"Enf\",\"Trend\",\"Mevsimsellik\",\"Mevsimsel DÃ¼zeltme\",\"Rassal\"]"
      ]
    },
    {
      "cell_type": "markdown",
      "metadata": {
        "id": "AcSrD9DlfEie"
      },
      "source": [
        "y = mevsimsellik + rassal + trend -> Enflasyon"
      ]
    },
    {
      "cell_type": "markdown",
      "metadata": {
        "id": "w0LQClJ1fEie"
      },
      "source": [
        "plt.plot(veri[\"Mevsimsel DÃ¼zeltme\"])<br>\n",
        "plt.show()"
      ]
    },
    {
      "cell_type": "markdown",
      "metadata": {
        "id": "v43SaCMbfEie"
      },
      "source": [
        "mevsimsel dÃ¼zeltmenin doÄŸrusallÄ±kla bir korelasyonu var mÄ± ona bakÄ±caz"
      ]
    },
    {
      "cell_type": "code",
      "execution_count": null,
      "metadata": {
        "id": "8jKvsbulfEie"
      },
      "outputs": [],
      "source": [
        "indeks = np.arange(1,len(veri)+1) # dogrusallik yapisi (girdi olarak kullanÄ±lacaktÄ± - linear regression)\n",
        "# print(indeks)\n",
        "# plt.plot(indeks)\n",
        "# plt.show()"
      ]
    },
    {
      "cell_type": "markdown",
      "metadata": {
        "id": "H2LwXL4GfEif"
      },
      "source": [
        "yukarÄ± yÃ¶nlÃ¼yse (hatasÄ± dÃ¼ÅŸÃ¼kse) yÃ¼ksek r'2 deÄŸeri Ã§Ä±kar ve doÄŸrusal korelasyon vardÄ±r.<br>\n",
        "numpy korelasyon matrisini kullanalÄ±m"
      ]
    },
    {
      "cell_type": "markdown",
      "metadata": {
        "id": "rzsZtjHMfEif"
      },
      "source": [
        "print(np.corrcoef(veri[\"Mevsimsel DÃ¼zeltme\"],indeks))<br>\n",
        "0.21 'lik korelasyon Ã§Ä±ktÄ±. -(linear deÄŸil)<br>\n",
        "verimizde deterministik bir mevsimsellik var<br>\n",
        "mevsimselliÄŸi dÄ±ÅŸlayÄ±p mevsimsel dÃ¼zeltme katsayÄ±sÄ±na ulaÅŸtÄ±k.<br>\n",
        "mevsimsel dÃ¼zeltmeyi doÄŸru modelleyebilirsek deterministik olduÄŸu iÃ§in ekleme yapÄ±p tahmin sonucu elde edebiliriz.<br>\n",
        "mevsimsellik yapÄ±sÄ±nda trend yapÄ±sÄ± olmadÄ±ÄŸÄ± iÃ§in doÄŸrusal model yapÄ±sÄ± kuramadÄ±k - kuramayÄ±z."
      ]
    },
    {
      "cell_type": "markdown",
      "metadata": {
        "id": "qYv7IdzpfEif"
      },
      "source": [
        "mevsimsel olmayan arÄ±ma modeliyle devam edicez"
      ]
    },
    {
      "cell_type": "code",
      "execution_count": null,
      "metadata": {
        "id": "YlF0bdbsfEif"
      },
      "outputs": [],
      "source": [
        "model = auto_arima(veri[\"Mevsimsel DÃ¼zeltme\"],seasonal = False, Trace = False)\n",
        "# print(model.summary())\n",
        "# AIC 458\n",
        "# arch etkisi - (geriye kalan artÄ±klar Ã¼zerinden kontrol edicez) ve otokorelasyon var mÄ± ?"
      ]
    },
    {
      "cell_type": "markdown",
      "metadata": {
        "id": "BFpeRq0vfEif"
      },
      "source": [
        "### oto korelasyon<br>\n",
        "ac = acorr_ljungbox(model.resid()) # rassal deÄŸerler"
      ]
    },
    {
      "cell_type": "markdown",
      "metadata": {
        "id": "mBj0hsegfEif"
      },
      "source": [
        "# arch etkisi<br>\n",
        "h = het_arch(model.resid(), nlags = 1 , ddof=3)[1] # serbestlik derecesi ddof = 3 ( p + d )"
      ]
    },
    {
      "cell_type": "markdown",
      "metadata": {
        "id": "Lji0_uuOfEif"
      },
      "source": [
        "print(ac)  # anlamlÄ± korelasyon yok<br>\n",
        "print(h) # 0.001 arch etkisi var."
      ]
    },
    {
      "cell_type": "code",
      "execution_count": null,
      "metadata": {
        "id": "IL9BHbOdfEif"
      },
      "outputs": [],
      "source": [
        "enf_test[\"Mevsimsellik\"] = veri[\"Mevsimsellik\"].iloc[-36:].values\n",
        "tahmin = model.predict(36)\n",
        "enf_test[\"Tahmin\"] = tahmin + enf_test[\"Mevsimsellik\"]\n",
        "# print(enf_test)\n",
        "# enflasyonla tahmin deÄŸerleri arasÄ±nda Ã§ok fark var\n",
        "# bunun nedeni arch etkisinden dolayÄ±,"
      ]
    },
    {
      "cell_type": "markdown",
      "metadata": {
        "id": "fTg0PTzbfEif"
      },
      "source": [
        " mevsimsel dÃ¼zeltmeyi kullanmÄ±caz, sarima kullanÄ±caz."
      ]
    },
    {
      "cell_type": "markdown",
      "metadata": {
        "id": "m7uMKjbFfEig"
      },
      "source": [
        "\n",
        "<br>\n",
        "for i in range(2,13):<br>\n",
        "    model = auto_arima(veri[\"Enf\"],seasonal=True,m=i,trace=False)<br>\n",
        "    print(\"m:{} Aic: {}\".format(i,model.aic()))<br>\n"
      ]
    },
    {
      "cell_type": "markdown",
      "metadata": {
        "id": "gI9N2bS3fEig"
      },
      "source": [
        "\n",
        "<br>\n",
        "m:2 Aic: 515.2326035115791<br>\n",
        "m:3 Aic: 509.77785147828354<br>\n",
        "m:4 Aic: 502.2720704046204<br>\n",
        "m:5 Aic: 541.3718499213408<br>\n",
        "m:6 Aic: 509.2182209465135<br>\n",
        "m:7 Aic: 541.3718499213408<br>\n",
        "m:8 Aic: 518.7257272095954<br>\n",
        "m:9 Aic: 528.3586976084922<br>\n",
        "m:10 Aic: 541.3718499213408<br>\n",
        "m:11 Aic: 541.3718499213408<br>\n",
        "m:12 Aic: 494.3792266831782<br>\n",
        "Bu modelde Aic deÄŸeri Ã¶ncekine gÃ¶re yÃ¼ksek Ã§Ä±ktÄ±, kullanmayacaÄŸÄ±z.<br>\n"
      ]
    },
    {
      "cell_type": "markdown",
      "metadata": {
        "id": "jlf-WMzUfEig"
      },
      "source": [
        "YumuÅŸatma Ãœstel Modelleri Deneyelim:"
      ]
    },
    {
      "cell_type": "code",
      "execution_count": null,
      "metadata": {
        "id": "pWKKNphGfEig"
      },
      "outputs": [],
      "source": [
        "\n",
        "sonuc = pd.DataFrame(columns=[\"DÃ¶nem\", \"RMSE\"])\n",
        "period = range(2,13)"
      ]
    },
    {
      "cell_type": "markdown",
      "metadata": {
        "id": "OV4XZVhyfEig"
      },
      "source": [
        "hold winters mevsimselliÄŸi de baz alÄ±yor"
      ]
    },
    {
      "cell_type": "code",
      "execution_count": null,
      "metadata": {
        "id": "S6jWfD46fEig"
      },
      "outputs": [],
      "source": [
        "for i in period:\n",
        "    model = ExponentialSmoothing(enf_train[\"Enf\"],trend=\"add\",seasonal=\"add\",seasonal_periods=i).fit(optimized=True)\n",
        "    tahmin = model.forecast(36) # 36 dÃ¶nemlik\n",
        "    rmse = np.sqrt(mean_squared_error(enf_test[\"Enf\"], tahmin))\n",
        "    sonuc = sonuc._append({\"DÃ¶nem\":i,\"RMSE\":rmse},ignore_index=True)\n",
        "\n",
        "\n",
        "sonuc = sonuc.sort_values(by=\"RMSE\") # kucukten buyuge\n",
        "# print(sonuc)"
      ]
    },
    {
      "cell_type": "markdown",
      "metadata": {
        "id": "WsdoHDiOfEig"
      },
      "source": [
        "\n",
        "<br>\n",
        "    DÃ¶nem      RMSE<br>\n",
        "1     3.0  3.904438<br>\n",
        "7     9.0  3.912075<br>\n",
        "0     2.0  3.933386<br>\n",
        "8    10.0  3.934485<br>\n",
        "6     8.0  3.948194<br>\n",
        "9    11.0  3.949118<br>\n",
        "10   12.0  3.970932<br>\n",
        "4     6.0  3.997553<br>\n",
        "2     4.0  4.140709<br>\n",
        "3     5.0  4.206096<br>\n",
        "5     7.0  4.227467<br>\n",
        "Periyot olarak 3 dÃ¶nem kullandÄ±ÄŸÄ±mÄ±zda en dÃ¼ÅŸÃ¼k RMSE deÄŸerine ulaÅŸabiliyoruz<br>\n",
        "Deneyelim:<br>\n"
      ]
    },
    {
      "cell_type": "code",
      "execution_count": null,
      "metadata": {
        "id": "OBr_SjfsfEig"
      },
      "outputs": [],
      "source": [
        "model = ExponentialSmoothing(enf_train[\"Enf\"],trend=\"add\",seasonal=\"add\",seasonal_periods=3).fit(optimized=True)\n",
        "tahmin = model.forecast(36) # 36 dÃ¶nemlik\n",
        "enf_test[\"Tahmin\"] = tahmin\n",
        "# print(enf_test)\n",
        "\n",
        "\n",
        "sonuc = sonuc.sort_values(by=\"RMSE\")\n",
        "# print(sonuc)"
      ]
    },
    {
      "cell_type": "markdown",
      "metadata": {
        "id": "6l7sKvt-fEih"
      },
      "source": [
        "\n",
        "<br>\n",
        "DÃ¶nem      RMSE<br>\n",
        "0     3.0  3.904438<br>\n",
        "19   10.0  3.904438<br>\n",
        "18    9.0  3.904438<br>\n",
        "17    8.0  3.904438<br>\n",
        "16    7.0  3.904438<br>\n",
        "15    6.0  3.904438<br>\n",
        "14    5.0  3.904438<br>\n",
        "13    4.0  3.904438<br>\n",
        "12    3.0  3.904438<br>\n",
        "11    2.0  3.904438<br>\n",
        "21   12.0  3.904438<br>\n",
        "20   11.0  3.904438<br>\n",
        "1     9.0  3.912075<br>\n",
        "2     2.0  3.933386<br>\n",
        "3    10.0  3.934485<br>\n",
        "4     8.0  3.948194<br>\n",
        "5    11.0  3.949118<br>\n",
        "6    12.0  3.970932<br>\n",
        "7     6.0  3.997553<br>\n",
        "8     4.0  4.140709<br>\n",
        "9     5.0  4.206096<br>\n",
        "10    7.0  4.227467<br>\n"
      ]
    },
    {
      "cell_type": "markdown",
      "metadata": {
        "id": "dTv7LbVAfEih"
      },
      "source": [
        "mevsimsel dÃ¼zeltme = trend + rassal olduÄŸundan rassal'lÄ±k enflasyona ciddi etkisi var.<br>\n",
        "sabir bir ortalama modeliyle tahmin etmek zordur<br>\n",
        "-----------------"
      ]
    },
    {
      "cell_type": "markdown",
      "metadata": {
        "id": "jzg5mPR3fEih"
      },
      "source": [
        "# veri gÃ¶rselleÅŸtirelim"
      ]
    },
    {
      "cell_type": "code",
      "execution_count": null,
      "metadata": {
        "id": "c-LIp1vCfEih"
      },
      "outputs": [],
      "source": [
        "veri.plot(y=[\"Enf\",\"Trend\",\"Rassal\"])\n",
        "#plt.show()"
      ]
    },
    {
      "cell_type": "markdown",
      "metadata": {
        "id": "l3wsKG17fEih"
      },
      "source": [
        "enflasyon rassal ÅŸoklarla hareket ediyor.<br>\n",
        "trend veya rassalÄ± tek baÅŸÄ±na modelleyebilir miyiz ?"
      ]
    },
    {
      "cell_type": "markdown",
      "metadata": {
        "id": "Tfdci2hBfEih"
      },
      "source": [
        "trend -> belirli bir ortalama etrafÄ±nda gidiyor - linear regresyonla aÃ§Ä±klanmaz<br>\n",
        "mevsimsellik -> deterministiktir.<br>\n",
        "rassallÄ±k -> bunun Ã¼zerinde durucaz."
      ]
    },
    {
      "cell_type": "code",
      "execution_count": null,
      "metadata": {
        "id": "et1xQPz7fEih"
      },
      "outputs": [],
      "source": [
        "indeks = np.arange(1,len(veri)+1)\n",
        "veri[\"T\"] = indeks"
      ]
    },
    {
      "cell_type": "markdown",
      "metadata": {
        "id": "4_RCR1qXfEih"
      },
      "source": [
        "polinomal regresyonla"
      ]
    },
    {
      "cell_type": "code",
      "execution_count": null,
      "metadata": {
        "id": "oHbemnTnfEih"
      },
      "outputs": [],
      "source": [
        "pol = PolynomialFeatures(degree = 3)\n",
        "xp = pol.fit_transform(veri[\"T\"].values.reshape(-1,1))"
      ]
    },
    {
      "cell_type": "code",
      "execution_count": null,
      "metadata": {
        "id": "qhUu5JIGfEii"
      },
      "outputs": [],
      "source": [
        "y = veri[\"Trend\"]\n",
        "model = sm.OLS(y,xp).fit()\n",
        "# print(model.summary())"
      ]
    },
    {
      "cell_type": "markdown",
      "metadata": {
        "id": "3MYvJAx1fEii"
      },
      "source": [
        "Log - Likehood = KatsayÄ±lar AnlamlÄ±<br>\n",
        "Prob (F-statistic) > 0 : Model AnlamlÄ±<br>\n",
        "R^2 dÃ¼ÅŸÃ¼k Ã§Ã¼nkÃ¼ doÄŸrusal model deÄŸil."
      ]
    },
    {
      "cell_type": "code",
      "execution_count": null,
      "metadata": {
        "id": "8b68pgchfEii"
      },
      "outputs": [],
      "source": [
        "tahmin = model.predict(xp)"
      ]
    },
    {
      "cell_type": "markdown",
      "metadata": {
        "id": "WK0vHxjvfEii"
      },
      "source": [
        "sns.scatterplot(x = veri[\"T\"], y=veri[\"Trend\"], label=\"GerÃ§ek DeÄŸerler\")<br>\n",
        "sns.lineplot(x = veri[\"T\"], y=tahmin, label=\"Tahmin\")<br>\n",
        "plt.show()"
      ]
    },
    {
      "cell_type": "markdown",
      "metadata": {
        "id": "bxjD9wKkfEii"
      },
      "source": [
        "rint(model.summary()) # polinom derecesi 1 'ken R^2 0.35"
      ]
    },
    {
      "cell_type": "code",
      "execution_count": null,
      "metadata": {
        "id": "5HH0fCnYfEii"
      },
      "outputs": [],
      "source": [
        "                       # polinom derecesi 2 'ken R^2 0.595\n",
        "                       # polinom derecesi 3 'ken R^2 0.630"
      ]
    },
    {
      "cell_type": "markdown",
      "metadata": {
        "id": "dPeH4SIFfEii"
      },
      "source": [
        " modelin artÄ±klarÄ±"
      ]
    },
    {
      "cell_type": "code",
      "execution_count": null,
      "metadata": {
        "id": "UV8_wGkTfEii"
      },
      "outputs": [],
      "source": [
        "artÄ±k = model.resid"
      ]
    },
    {
      "cell_type": "markdown",
      "metadata": {
        "id": "Y6dHVRmsfEii"
      },
      "source": [
        " plot acf - otokoralasyon yapÄ±sÄ±<br>\n",
        "lot_acf(artÄ±k, zero=False)<br>\n",
        "lt.show()"
      ]
    },
    {
      "cell_type": "markdown",
      "metadata": {
        "id": "PMM71GBmfEij"
      },
      "source": [
        "acorr_breusch_godfrey - artÄ±klarÄ±n otokoralasyonunu test edicek"
      ]
    },
    {
      "cell_type": "code",
      "execution_count": null,
      "metadata": {
        "id": "5TJHVbGPfEij"
      },
      "outputs": [],
      "source": [
        "h = acorr_breusch_godfrey(model)[1] # h1 - otokoralasyonun var olduÄŸunu | h\n",
        "# prop deÄŸeri Ã¶nemli olduÄŸundan modelin [1] deÄŸerini aldÄ±k."
      ]
    },
    {
      "cell_type": "markdown",
      "metadata": {
        "id": "aSfcLgaQfEij"
      },
      "source": [
        "print(h) - 5.5162208818113e-40  - h1 kabul (h>0)"
      ]
    },
    {
      "cell_type": "markdown",
      "metadata": {
        "id": "o5UQR4SYfEij"
      },
      "source": [
        "####### ARIMA ile Trendi tahmin etme<br>\n",
        "trend modeli"
      ]
    },
    {
      "cell_type": "code",
      "execution_count": null,
      "metadata": {
        "id": "2GABlUIWfEij"
      },
      "outputs": [],
      "source": [
        "model = auto_arima(veri[\"Trend\"],seasonal = False, trace= False)\n",
        "# print(model.summary())\n",
        "# ar deÄŸerleri yok, (mevsimsellik kontrol edilmedi)"
      ]
    },
    {
      "cell_type": "code",
      "execution_count": null,
      "metadata": {
        "id": "e509Z9vMfEij"
      },
      "outputs": [],
      "source": [
        "artÄ±k = model.resid()\n",
        "ac = acorr_ljungbox(artÄ±k)\n",
        "# print(ac) # otokoralasyon testi - anlamlÄ± deÄŸil."
      ]
    },
    {
      "cell_type": "markdown",
      "metadata": {
        "id": "RdjdkD4EfEij"
      },
      "source": [
        "arch etkisi testi"
      ]
    },
    {
      "cell_type": "code",
      "execution_count": null,
      "metadata": {
        "id": "etJgctvzfEik"
      },
      "outputs": [],
      "source": [
        "h = het_arch(artÄ±k, nlags=1, ddof=3)[1]\n",
        "# print(h) 0.9953081082332432 - p-deÄŸeri > 0.05 || 0.99 > 0.05 H0 kabul (arch etkisi yok)"
      ]
    },
    {
      "cell_type": "markdown",
      "metadata": {
        "id": "09gn9YGgfEik"
      },
      "source": [
        "## tahmin"
      ]
    },
    {
      "cell_type": "code",
      "execution_count": null,
      "metadata": {
        "id": "5ThGIVMWfEik"
      },
      "outputs": [],
      "source": [
        "tahmin = model.predict_in_sample()\n",
        "# print('TAHMIN:')\n",
        "# print(tahmin)"
      ]
    },
    {
      "cell_type": "markdown",
      "metadata": {
        "id": "bN5bq8JAfEik"
      },
      "source": [
        "plt.plot(veri[\"Trend\"],label=\"Trend\")<br>\n",
        "plt.plot(tahmin,label = \"Tahmin\")<br>\n",
        "plt.legend()<br>\n",
        "plt.show()"
      ]
    },
    {
      "cell_type": "markdown",
      "metadata": {
        "id": "XLsk9L1EfEik"
      },
      "source": [
        "##### Rassal Hareket Analizi<br>\n",
        " Ozetle<br>\n",
        "Deterministik Mevsimsellik var<br>\n",
        "Trend -> arch etkisi yok , otokorelasyon yapÄ±sÄ± yok.<br>\n",
        "Rassal'Ä±n Enflasyona etkisi en fazla derecede.<br>\n",
        "ttest ile"
      ]
    },
    {
      "cell_type": "markdown",
      "metadata": {
        "id": "7s3IIUD8fEik"
      },
      "source": [
        "rassallÄ±ÄŸÄ±n ortalamasÄ± sÄ±fÄ±r mÄ± fark lÄ± mÄ± ?"
      ]
    },
    {
      "cell_type": "code",
      "execution_count": null,
      "metadata": {
        "id": "bZveg4ETfEik"
      },
      "outputs": [],
      "source": [
        "t_ist,p = ttest_1samp(veri[\"Rassal\"], popmean=0)\n",
        "# popmean -> hangi degerden farkli olup olmadigini test etmek icin verdigimiz deger\n",
        "# print(p)\n",
        "# 0.9255763888159445   -   h0 kabul arima yerine zero modeli secilebilir ( 0 ortalamaya sahip )"
      ]
    },
    {
      "cell_type": "markdown",
      "metadata": {
        "id": "EUk_HktlfEik"
      },
      "source": [
        "## ADF augmented dickey fuller Testi - Rassal<br>\n",
        "ortalama 0 oldugu icin trend n gonderebiliriz"
      ]
    },
    {
      "cell_type": "code",
      "execution_count": null,
      "metadata": {
        "id": "sg4OSKnjfEil"
      },
      "outputs": [],
      "source": [
        "adf = ADF(veri[\"Rassal\"],trend=\"n\")\n",
        "# print(adf)"
      ]
    },
    {
      "cell_type": "markdown",
      "metadata": {
        "id": "CHAEppPUfEil"
      },
      "source": [
        "\n",
        "<br>\n",
        "Test Statistic: -8<br>\n",
        "Trend: No Trend<br>\n",
        "Critical Values: -2.58 (1%), -1.94 (5%), -1.62 (10%)<br>\n",
        "Null Hypothesis: The process contains a unit root.<br>\n"
      ]
    },
    {
      "cell_type": "markdown",
      "metadata": {
        "id": "gjA7MSSHfEil"
      },
      "source": [
        "## PhillipsPerron"
      ]
    },
    {
      "cell_type": "code",
      "execution_count": null,
      "metadata": {
        "id": "4eyrpxKjfEil"
      },
      "outputs": [],
      "source": [
        "pp = PhillipsPerron(veri[\"Rassal\"],trend=\"n\")\n",
        "## print(pp)"
      ]
    },
    {
      "cell_type": "markdown",
      "metadata": {
        "id": "2OGIcFtSfEil"
      },
      "source": [
        "\n",
        "<br>\n",
        "Test Statistic                -16.056<br>\n",
        "P-value                         0.000<br>\n",
        "Lags                               15<br>\n",
        "-------------------------------------<br>\n",
        "Trend: No Trend<br>\n",
        "Critical Values: -2.58 (1%), -1.94 (5%), -1.62 (10%)<br>\n",
        "Null Hypothesis: The process contains a unit root.<br>\n"
      ]
    },
    {
      "cell_type": "markdown",
      "metadata": {
        "id": "49i8Y9rAfEil"
      },
      "source": [
        "#"
      ]
    },
    {
      "cell_type": "code",
      "execution_count": null,
      "metadata": {
        "id": "zt3aLmgtfEil"
      },
      "outputs": [],
      "source": [
        "sns.histplot(veri[\"Rassal\"],kde=True)\n",
        "# plt.show()\n",
        "# kde - normal dagilim"
      ]
    },
    {
      "cell_type": "markdown",
      "metadata": {
        "id": "2tLsyrwVfEil"
      },
      "source": [
        "### normallik testi"
      ]
    },
    {
      "cell_type": "code",
      "execution_count": null,
      "metadata": {
        "id": "xrdhczPzfEil"
      },
      "outputs": [],
      "source": [
        "n = jarque_bera(veri[\"Rassal\"]) # normal dagilima uymamasÄ±nÄ± bekliyoruz..\n",
        "# h0 normal dagilir\n",
        "# h1 normal dagilmaz"
      ]
    },
    {
      "cell_type": "markdown",
      "metadata": {
        "id": "MakLOFuvfEim"
      },
      "source": [
        "print(n)<br>\n",
        "SignificanceResult(statistic=1076.5207353062297, pvalue=1.723822325527858e-234)<br>\n",
        "normal dagilim yok<br>\n",
        "seri duragan"
      ]
    },
    {
      "cell_type": "markdown",
      "metadata": {
        "id": "tQtmWkFkfEim"
      },
      "source": [
        "## ARCH ile modelleyecegiz"
      ]
    },
    {
      "cell_type": "code",
      "execution_count": null,
      "metadata": {
        "id": "amKvB-HbfEim"
      },
      "outputs": [],
      "source": [
        "p_val = range(1,5) # 5 i kapsamayacagi icin max 4 gecikme\n",
        "q_val = range(1,5)\n",
        "o_val = range(0,2)"
      ]
    },
    {
      "cell_type": "code",
      "execution_count": null,
      "metadata": {
        "id": "CYuFoD-FfEim"
      },
      "outputs": [],
      "source": [
        "dag = [\"ged\",\"normal\",\"studentst\",\"skewt\"]\n",
        "model = [\"GARCH\",\"EGARCH\"]"
      ]
    },
    {
      "cell_type": "code",
      "execution_count": null,
      "metadata": {
        "id": "m7AaTe--fEim"
      },
      "outputs": [],
      "source": [
        "sonuc = pd.DataFrame(columns=[\"p\",\"o\",\"q\",\"Model\",\"DaÄŸÄ±lÄ±m\",\"Aic\"])"
      ]
    },
    {
      "cell_type": "code",
      "execution_count": null,
      "metadata": {
        "id": "w7MkmBmpfEim"
      },
      "outputs": [],
      "source": [
        "for p in p_val:\n",
        "    for q in q_val:\n",
        "        for o in o_val:\n",
        "            for d in dag:\n",
        "                for m in model:\n",
        "                    modelarch = arch_model(veri[\"Rassal\"],p=p,o=o,q=q,vol=m,dist=d,mean=\"Zero\").fit(disp=\"off\")\n",
        "                    sonuc = sonuc._append({\"p\":p,\"o\":o,\"q\":q,\"Model\":m,\"DaÄŸÄ±lÄ±m\":d,\"Aic\":modelarch.aic},ignore_index=True)"
      ]
    },
    {
      "cell_type": "code",
      "execution_count": null,
      "metadata": {
        "id": "rR0e38SNfEim"
      },
      "outputs": [],
      "source": [
        "sonuc = sonuc.sort_values(by=\"Aic\")"
      ]
    },
    {
      "cell_type": "markdown",
      "metadata": {
        "id": "9exibtk3fEim"
      },
      "source": [
        "print(sonuc)"
      ]
    },
    {
      "cell_type": "markdown",
      "metadata": {
        "id": "s8cjvXhqfEim"
      },
      "source": [
        "\n",
        "<br>\n",
        "p  o  q   Model DaÄŸÄ±lÄ±m         Aic<br>\n",
        "14   1  1  1   GARCH   skewt  381.491804<br>\n",
        "30   1  1  2   GARCH   skewt  383.491803<br>\n",
        "78   2  1  1   GARCH   skewt  383.491804<br>\n",
        "142  3  1  1   GARCH   skewt  385.491803<br>\n",
        "46   1  1  3   GARCH   skewt  385.491803<br>\n",
        "..  .. .. ..     ...     ...         ...<br>\n",
        "114  2  0  4   GARCH  normal  413.718610<br>\n",
        "35   1  0  3  EGARCH  normal  414.308609<br>\n",
        "99   2  0  3  EGARCH  normal  415.158920<br>\n",
        "51   1  0  4  EGARCH  normal  416.308608<br>\n",
        "115  2  0  4  EGARCH  normal  417.158921<br>\n",
        "<br>\n",
        "model-1 en dÃ¼sÃ¼k AIC deÄŸerli;"
      ]
    },
    {
      "cell_type": "code",
      "execution_count": null,
      "metadata": {
        "id": "zcQwIwW0fEin"
      },
      "outputs": [],
      "source": [
        "modelarch = arch_model(veri[\"Rassal\"],p=1,o=1,q=1,vol=\"GARCH\",dist=\"skewt\",mean=\"Zero\").fit(disp=\"off\")\n",
        "# print(modelarch)\n",
        "# ortalamasÄ± zaten sÄ±fÄ±r"
      ]
    },
    {
      "cell_type": "markdown",
      "metadata": {
        "id": "NabU0OG5fEin"
      },
      "source": [
        "arch etkisi kontrol"
      ]
    },
    {
      "cell_type": "code",
      "execution_count": null,
      "metadata": {
        "id": "vL1Oyyv7fEin"
      },
      "outputs": [],
      "source": [
        "h = het_arch(modelarch.std_resid, nlags=1)[1]\n",
        "print(h)\n",
        "# 0.859623524612982 -> H0 kabul arch etkisi yok."
      ]
    },
    {
      "cell_type": "code",
      "execution_count": null,
      "metadata": {
        "id": "QVG3R4UbfEin"
      },
      "outputs": [],
      "source": [
        "plt.plot(veri[\"Rassal\"])\n",
        "plt.plot(modelarch.conditional_volatility) # aykÄ±rÄ± deÄŸerleri ne kadar tahmin edebiliyoruz?"
      ]
    },
    {
      "cell_type": "markdown",
      "metadata": {
        "id": "sH1DMr8_fEin"
      },
      "source": [
        "### OZET ####<br>\n",
        "Mevsimsellik -> Deterministik<br>\n",
        "Trend -> Arima ile modellenecek"
      ]
    },
    {
      "cell_type": "markdown",
      "metadata": {
        "id": "1nlX7_z4fEin"
      },
      "source": [
        "##### Rolling Window - Kayan YapÄ±"
      ]
    },
    {
      "cell_type": "code",
      "execution_count": null,
      "metadata": {
        "id": "L03ClkAGfEin"
      },
      "outputs": [],
      "source": [
        "test_sayÄ±sÄ± = len(enf_test)\n",
        "vol_tahmin = [] # volatility olmadigi icin."
      ]
    },
    {
      "cell_type": "code",
      "execution_count": null,
      "metadata": {
        "id": "YqTYYGn_fEin"
      },
      "outputs": [],
      "source": [
        "for i in range(test_sayÄ±sÄ±):\n",
        "    train = enfay[\"Enf\"][:-(test_sayÄ±sÄ±-i)]\n",
        "    modelarch = arch_model(train, p=1, o=1, q=1, vol=\"GARCH\", dist=\"skewt\", mean=\"Zero\")\n",
        "    model_arch = modelarch.fit(disp=\"off\")\n",
        "    tahmin = model_arch.forecast(horizon=1) # horizon -> kaÃ§ adÄ±m sonrasÄ±nÄ± tahmin edecek??\n",
        "    vol_tahmin.append(np.sqrt(tahmin.variance.values[-1,:][0])) # Array YapÄ±sÄ±ndan Ã§Ä±karmak iÃ§in ekstradan [0] parametresi ekledik."
      ]
    },
    {
      "cell_type": "markdown",
      "metadata": {
        "id": "tHfNXmk7fEin"
      },
      "source": [
        "## Trend Tahmin"
      ]
    },
    {
      "cell_type": "code",
      "execution_count": null,
      "metadata": {
        "id": "vMKoGElBfEio"
      },
      "outputs": [],
      "source": [
        "model_trend = auto_arima(veri[\"Trend\"],seasonal=False, trace=False)\n",
        "tahmin_trend = model_trend.predict(test_sayÄ±sÄ±)"
      ]
    },
    {
      "cell_type": "code",
      "execution_count": null,
      "metadata": {
        "id": "bi70ayKofEio"
      },
      "outputs": [],
      "source": [
        "tahmin_mev = veri[\"Mevsimsellik\"].iloc[-(test_sayÄ±sÄ±):]\n",
        "# print(tahmin_mev)"
      ]
    },
    {
      "cell_type": "markdown",
      "metadata": {
        "id": "ZH_TQ4ODfEio"
      },
      "source": [
        "# sonuc - toplamsal model"
      ]
    },
    {
      "cell_type": "code",
      "execution_count": null,
      "metadata": {
        "id": "t0P99dO9fEio"
      },
      "outputs": [],
      "source": [
        "plt.figure()\n",
        "son = tahmin_trend + tahmin_mev.values\n",
        "enf_test[\"Tahmin\"] = son"
      ]
    },
    {
      "cell_type": "code",
      "execution_count": null,
      "metadata": {
        "id": "E6xtMb87fEio"
      },
      "outputs": [],
      "source": [
        "plt.ylim(top=13)\n",
        "plt.plot(enf_train[\"Enf\"], label = \"Train\")\n",
        "plt.plot(enf_test[\"Enf\"], label=\"Test\")\n",
        "plt.plot(enf_test[\"Tahmin\"], label=\"Tahmin\")\n",
        "plt.legend()\n",
        "plt.show()"
      ]
    },
    {
      "cell_type": "markdown",
      "metadata": {
        "id": "swvKzM2UfEio"
      },
      "source": [
        "ÅŸoklarÄ± (volatility) tahmin edemiyor.<br>\n",
        "eklersek (volatility degerlerini)"
      ]
    },
    {
      "cell_type": "code",
      "execution_count": null,
      "metadata": {
        "id": "nLQtkfktfEip"
      },
      "outputs": [],
      "source": [
        "plt.figure()\n",
        "son = tahmin_trend + tahmin_mev.values + vol_tahmin\n",
        "enf_test[\"Tahmin\"] = son\n",
        "plt.ylim(top=13)\n",
        "plt.plot(enf_train[\"Enf\"], label = \"Train\")\n",
        "plt.plot(enf_test[\"Enf\"], label=\"Test\")\n",
        "plt.plot(enf_test[\"Tahmin\"], label=\"Tahmin\")\n",
        "plt.legend()\n",
        "plt.show()"
      ]
    }
  ],
  "metadata": {
    "kernelspec": {
      "display_name": "Python 3",
      "language": "python",
      "name": "python3"
    },
    "language_info": {
      "codemirror_mode": {
        "name": "ipython",
        "version": 3
      },
      "file_extension": ".py",
      "mimetype": "text/x-python",
      "name": "python",
      "nbconvert_exporter": "python",
      "pygments_lexer": "ipython3",
      "version": "3.6.4"
    },
    "colab": {
      "provenance": []
    }
  },
  "nbformat": 4,
  "nbformat_minor": 0
}